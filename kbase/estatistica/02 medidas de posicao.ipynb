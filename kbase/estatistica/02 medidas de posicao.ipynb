{
 "cells": [
  {
   "cell_type": "markdown",
   "metadata": {},
   "source": [
    "# Medidas de centralidade"
   ]
  },
  {
   "cell_type": "code",
   "execution_count": 1,
   "metadata": {},
   "outputs": [],
   "source": [
    "import numpy as np\n",
    "import pandas as pd"
   ]
  },
  {
   "cell_type": "markdown",
   "metadata": {},
   "source": [
    "## Média aritmética\n",
    "\n",
    "É a soma de todos os resultados dividida pela quantidade de resultados.\n",
    "\n",
    "X = x1 + x2 + x3 + ... xn / n"
   ]
  },
  {
   "cell_type": "code",
   "execution_count": 8,
   "metadata": {},
   "outputs": [
    {
     "data": {
      "text/plain": [
       "25.0"
      ]
     },
     "execution_count": 8,
     "metadata": {},
     "output_type": "execute_result"
    }
   ],
   "source": [
    "valores = np.array([10,20,30,40])\n",
    "\n",
    "# Soma de todos os valores do array = 10 + 20 + 30 + 40\n",
    "soma = valores.sum()\n",
    "\n",
    "# Conta a quantidade de valores do array = 4\n",
    "contagem = len(valores)\n",
    "\n",
    "# Divide a soma pela quantidade de valores = 100 / 4\n",
    "media = soma / contagem\n",
    "\n",
    "# média = 25\n",
    "media"
   ]
  },
  {
   "cell_type": "code",
   "execution_count": 9,
   "metadata": {},
   "outputs": [
    {
     "data": {
      "text/plain": [
       "25.0"
      ]
     },
     "execution_count": 9,
     "metadata": {},
     "output_type": "execute_result"
    }
   ],
   "source": [
    "# Claro que o numpy oferece uma função mais simples para o cálculo da média\n",
    "valores.mean()"
   ]
  },
  {
   "cell_type": "markdown",
   "metadata": {},
   "source": [
    "## Média ponderada\n",
    "\n",
    "Na média ponderada, os valores possuem diferentes grandezas, ou seja tem diferentes importâncias ou aconteceram um número de vezes diferente durante a coleta de dados.\n",
    "\n",
    "X = soma(Xi * fi) / N, onde N é igual a soma das grandezas (ou frequências)"
   ]
  },
  {
   "cell_type": "code",
   "execution_count": 29,
   "metadata": {},
   "outputs": [
    {
     "data": {
      "text/html": [
       "<div>\n",
       "<style scoped>\n",
       "    .dataframe tbody tr th:only-of-type {\n",
       "        vertical-align: middle;\n",
       "    }\n",
       "\n",
       "    .dataframe tbody tr th {\n",
       "        vertical-align: top;\n",
       "    }\n",
       "\n",
       "    .dataframe thead th {\n",
       "        text-align: right;\n",
       "    }\n",
       "</style>\n",
       "<table border=\"1\" class=\"dataframe\">\n",
       "  <thead>\n",
       "    <tr style=\"text-align: right;\">\n",
       "      <th></th>\n",
       "      <th>Idade</th>\n",
       "      <th>Frequência</th>\n",
       "    </tr>\n",
       "  </thead>\n",
       "  <tbody>\n",
       "    <tr>\n",
       "      <th>0</th>\n",
       "      <td>4</td>\n",
       "      <td>4</td>\n",
       "    </tr>\n",
       "    <tr>\n",
       "      <th>1</th>\n",
       "      <td>5</td>\n",
       "      <td>6</td>\n",
       "    </tr>\n",
       "    <tr>\n",
       "      <th>2</th>\n",
       "      <td>6</td>\n",
       "      <td>6</td>\n",
       "    </tr>\n",
       "    <tr>\n",
       "      <th>3</th>\n",
       "      <td>7</td>\n",
       "      <td>4</td>\n",
       "    </tr>\n",
       "  </tbody>\n",
       "</table>\n",
       "</div>"
      ],
      "text/plain": [
       "   Idade  Frequência\n",
       "0      4           4\n",
       "1      5           6\n",
       "2      6           6\n",
       "3      7           4"
      ]
     },
     "execution_count": 29,
     "metadata": {},
     "output_type": "execute_result"
    }
   ],
   "source": [
    "dados = [[4,4],[5,6],[6,6],[7,4]]\n",
    "grupoA = pd.DataFrame(dados, columns=['Idade', 'Frequência'])\n",
    "grupoA"
   ]
  },
  {
   "cell_type": "markdown",
   "metadata": {},
   "source": [
    "Para fazer o cálculo manual, temos:\n",
    "\n",
    "> \n",
    "- X = (4 x 4) + (5 x 6) + (6 x 6) + (7 x 4) / (4 + 6 + 6 + 4)\n",
    "- X = 16 + 30 + 36 + 28 / 20\n",
    "- X = 110 / 20\n",
    "- X = 5,5"
   ]
  },
  {
   "cell_type": "code",
   "execution_count": 32,
   "metadata": {},
   "outputs": [
    {
     "data": {
      "text/plain": [
       "5.5"
      ]
     },
     "execution_count": 32,
     "metadata": {},
     "output_type": "execute_result"
    }
   ],
   "source": [
    "# Aplicando na função average, apenas lançamos os valores, e depois suas grandezas (pesos) em weights\n",
    "np.average(grupoA['Idade'], weights=grupoA['Frequência'])"
   ]
  },
  {
   "cell_type": "markdown",
   "metadata": {},
   "source": [
    "## Mediana\n",
    "\n",
    "A mediana de um conjunto de dados é o valor que ocupa a posição central, desde que estejam todos colocados em ordem crescente ou descrescente, ou seja, em um rol.\n",
    "\n",
    "Dados os valores `5,8,4,6,7,3,4`\n",
    "\n",
    "Precisamos ordená-los num rol: `3,4,4,5,6,7,8`\n",
    "\n",
    "Se a quantidade de valores for **ímpar**, pegamos o valor do meio, se for **par**, somamos os dois valores centrais e dividimos por 2.\n",
    "\n",
    "No exemplo temos 7 valores, ou seja, `Md=5` \n",
    "\n",
    "Agora vamos num rol com quantidade par: `0,4,5,6,7,7,8,10`\n",
    "\n",
    "* `Md = 7+6 / 2 = 6,5` "
   ]
  },
  {
   "cell_type": "code",
   "execution_count": 48,
   "metadata": {},
   "outputs": [
    {
     "name": "stdout",
     "output_type": "stream",
     "text": [
      "Mediana do exemplo 1 é 5.00 e mediana do exemplo 2 é 6.50\n"
     ]
    }
   ],
   "source": [
    "ex1 = np.array([5,8,4,6,7,3,4])\n",
    "m_ex1 = np.median(ex1)\n",
    "\n",
    "ex2 = np.array([0,4,5,6,7,7,8,10])\n",
    "m_ex2 = np.median(ex2)\n",
    "\n",
    "print('Mediana do exemplo 1 é %.2f e mediana do exemplo 2 é %.2f' % (m_ex1, m_ex2))"
   ]
  },
  {
   "cell_type": "markdown",
   "metadata": {},
   "source": [
    "Vamos a mais um exemplo. Neste queremos saber como calcular a mediana dos alunos."
   ]
  },
  {
   "cell_type": "code",
   "execution_count": 50,
   "metadata": {},
   "outputs": [
    {
     "data": {
      "text/html": [
       "<div>\n",
       "<style scoped>\n",
       "    .dataframe tbody tr th:only-of-type {\n",
       "        vertical-align: middle;\n",
       "    }\n",
       "\n",
       "    .dataframe tbody tr th {\n",
       "        vertical-align: top;\n",
       "    }\n",
       "\n",
       "    .dataframe thead th {\n",
       "        text-align: right;\n",
       "    }\n",
       "</style>\n",
       "<table border=\"1\" class=\"dataframe\">\n",
       "  <thead>\n",
       "    <tr style=\"text-align: right;\">\n",
       "      <th></th>\n",
       "      <th>altura</th>\n",
       "      <th>frequencia</th>\n",
       "      <th>frequencia_acumulada</th>\n",
       "    </tr>\n",
       "  </thead>\n",
       "  <tbody>\n",
       "    <tr>\n",
       "      <th>0</th>\n",
       "      <td>160</td>\n",
       "      <td>2</td>\n",
       "      <td>2</td>\n",
       "    </tr>\n",
       "    <tr>\n",
       "      <th>1</th>\n",
       "      <td>161</td>\n",
       "      <td>1</td>\n",
       "      <td>3</td>\n",
       "    </tr>\n",
       "    <tr>\n",
       "      <th>2</th>\n",
       "      <td>162</td>\n",
       "      <td>1</td>\n",
       "      <td>4</td>\n",
       "    </tr>\n",
       "    <tr>\n",
       "      <th>3</th>\n",
       "      <td>163</td>\n",
       "      <td>1</td>\n",
       "      <td>5</td>\n",
       "    </tr>\n",
       "    <tr>\n",
       "      <th>4</th>\n",
       "      <td>164</td>\n",
       "      <td>2</td>\n",
       "      <td>7</td>\n",
       "    </tr>\n",
       "    <tr>\n",
       "      <th>5</th>\n",
       "      <td>165</td>\n",
       "      <td>5</td>\n",
       "      <td>12</td>\n",
       "    </tr>\n",
       "    <tr>\n",
       "      <th>6</th>\n",
       "      <td>166</td>\n",
       "      <td>2</td>\n",
       "      <td>14</td>\n",
       "    </tr>\n",
       "    <tr>\n",
       "      <th>7</th>\n",
       "      <td>167</td>\n",
       "      <td>4</td>\n",
       "      <td>18</td>\n",
       "    </tr>\n",
       "    <tr>\n",
       "      <th>8</th>\n",
       "      <td>168</td>\n",
       "      <td>4</td>\n",
       "      <td>22</td>\n",
       "    </tr>\n",
       "    <tr>\n",
       "      <th>9</th>\n",
       "      <td>169</td>\n",
       "      <td>1</td>\n",
       "      <td>23</td>\n",
       "    </tr>\n",
       "    <tr>\n",
       "      <th>10</th>\n",
       "      <td>170</td>\n",
       "      <td>7</td>\n",
       "      <td>30</td>\n",
       "    </tr>\n",
       "    <tr>\n",
       "      <th>11</th>\n",
       "      <td>171</td>\n",
       "      <td>1</td>\n",
       "      <td>31</td>\n",
       "    </tr>\n",
       "    <tr>\n",
       "      <th>12</th>\n",
       "      <td>172</td>\n",
       "      <td>2</td>\n",
       "      <td>33</td>\n",
       "    </tr>\n",
       "    <tr>\n",
       "      <th>13</th>\n",
       "      <td>173</td>\n",
       "      <td>1</td>\n",
       "      <td>34</td>\n",
       "    </tr>\n",
       "    <tr>\n",
       "      <th>14</th>\n",
       "      <td>174</td>\n",
       "      <td>4</td>\n",
       "      <td>38</td>\n",
       "    </tr>\n",
       "    <tr>\n",
       "      <th>15</th>\n",
       "      <td>175</td>\n",
       "      <td>2</td>\n",
       "      <td>40</td>\n",
       "    </tr>\n",
       "    <tr>\n",
       "      <th>16</th>\n",
       "      <td>176</td>\n",
       "      <td>2</td>\n",
       "      <td>42</td>\n",
       "    </tr>\n",
       "    <tr>\n",
       "      <th>17</th>\n",
       "      <td>177</td>\n",
       "      <td>3</td>\n",
       "      <td>45</td>\n",
       "    </tr>\n",
       "    <tr>\n",
       "      <th>18</th>\n",
       "      <td>178</td>\n",
       "      <td>3</td>\n",
       "      <td>48</td>\n",
       "    </tr>\n",
       "    <tr>\n",
       "      <th>19</th>\n",
       "      <td>179</td>\n",
       "      <td>1</td>\n",
       "      <td>49</td>\n",
       "    </tr>\n",
       "    <tr>\n",
       "      <th>20</th>\n",
       "      <td>180</td>\n",
       "      <td>1</td>\n",
       "      <td>50</td>\n",
       "    </tr>\n",
       "  </tbody>\n",
       "</table>\n",
       "</div>"
      ],
      "text/plain": [
       "    altura  frequencia  frequencia_acumulada\n",
       "0      160           2                     2\n",
       "1      161           1                     3\n",
       "2      162           1                     4\n",
       "3      163           1                     5\n",
       "4      164           2                     7\n",
       "5      165           5                    12\n",
       "6      166           2                    14\n",
       "7      167           4                    18\n",
       "8      168           4                    22\n",
       "9      169           1                    23\n",
       "10     170           7                    30\n",
       "11     171           1                    31\n",
       "12     172           2                    33\n",
       "13     173           1                    34\n",
       "14     174           4                    38\n",
       "15     175           2                    40\n",
       "16     176           2                    42\n",
       "17     177           3                    45\n",
       "18     178           3                    48\n",
       "19     179           1                    49\n",
       "20     180           1                    50"
      ]
     },
     "execution_count": 50,
     "metadata": {},
     "output_type": "execute_result"
    }
   ],
   "source": [
    "alturas = pd.read_csv('assets/alturas_frequencias.csv', delimiter=';')\n",
    "alturas"
   ]
  },
  {
   "cell_type": "markdown",
   "metadata": {},
   "source": [
    "Como estes valores se repetem, consideramos as somas de suas frequências, no caso `50`. Sabemos que 50 é par, e precisamos pegar os valores das posições centrais `25` e `26`. Olhando para as frequências acumuladas, veremos que estes valores estão na linha da `altura 170`. Então:\n",
    "\n",
    "`Md = 170 + 170 / 2 = 170`"
   ]
  },
  {
   "cell_type": "code",
   "execution_count": 54,
   "metadata": {},
   "outputs": [
    {
     "data": {
      "text/plain": [
       "altura                  170.0\n",
       "frequencia                2.0\n",
       "frequencia_acumulada     30.0\n",
       "dtype: float64"
      ]
     },
     "execution_count": 54,
     "metadata": {},
     "output_type": "execute_result"
    }
   ],
   "source": [
    "alturas.median()"
   ]
  },
  {
   "cell_type": "markdown",
   "metadata": {},
   "source": [
    "## Moda\n",
    "\n",
    "Moda é o valor dos resultados de uma pesquisa que acontece com a maior frequência.\n",
    "\n",
    "Xi | fi\n",
    "--|--\n",
    "5|3\n",
    "6|5\n",
    "7|11\n",
    "8|10\n",
    "9|5\n",
    "\n",
    "Observando a tabela, vemos que `mo = 7`"
   ]
  },
  {
   "cell_type": "code",
   "execution_count": 82,
   "metadata": {},
   "outputs": [
    {
     "data": {
      "text/html": [
       "<div>\n",
       "<style scoped>\n",
       "    .dataframe tbody tr th:only-of-type {\n",
       "        vertical-align: middle;\n",
       "    }\n",
       "\n",
       "    .dataframe tbody tr th {\n",
       "        vertical-align: top;\n",
       "    }\n",
       "\n",
       "    .dataframe thead th {\n",
       "        text-align: right;\n",
       "    }\n",
       "</style>\n",
       "<table border=\"1\" class=\"dataframe\">\n",
       "  <thead>\n",
       "    <tr style=\"text-align: right;\">\n",
       "      <th></th>\n",
       "      <th>altura</th>\n",
       "      <th>frequencia</th>\n",
       "      <th>frequencia_acumulada</th>\n",
       "    </tr>\n",
       "  </thead>\n",
       "  <tbody>\n",
       "    <tr>\n",
       "      <th>10</th>\n",
       "      <td>170</td>\n",
       "      <td>7</td>\n",
       "      <td>30</td>\n",
       "    </tr>\n",
       "  </tbody>\n",
       "</table>\n",
       "</div>"
      ],
      "text/plain": [
       "    altura  frequencia  frequencia_acumulada\n",
       "10     170           7                    30"
      ]
     },
     "execution_count": 82,
     "metadata": {},
     "output_type": "execute_result"
    }
   ],
   "source": [
    "# basta buscarmos a linha com o valor da maior frequência\n",
    "alturas[alturas['frequencia'] == alturas['frequencia'].max()]"
   ]
  },
  {
   "cell_type": "markdown",
   "metadata": {},
   "source": [
    "# Medidas de dispersão"
   ]
  },
  {
   "cell_type": "markdown",
   "metadata": {},
   "source": [
    "## Amplitude\n",
    "\n",
    "É a diferença entre o maior e menor valor de uma série de dados. Vamos usar nossa base de alturas e verificar a amplitude:"
   ]
  },
  {
   "cell_type": "code",
   "execution_count": 88,
   "metadata": {},
   "outputs": [
    {
     "data": {
      "text/html": [
       "<div>\n",
       "<style scoped>\n",
       "    .dataframe tbody tr th:only-of-type {\n",
       "        vertical-align: middle;\n",
       "    }\n",
       "\n",
       "    .dataframe tbody tr th {\n",
       "        vertical-align: top;\n",
       "    }\n",
       "\n",
       "    .dataframe thead th {\n",
       "        text-align: right;\n",
       "    }\n",
       "</style>\n",
       "<table border=\"1\" class=\"dataframe\">\n",
       "  <thead>\n",
       "    <tr style=\"text-align: right;\">\n",
       "      <th></th>\n",
       "      <th>altura</th>\n",
       "      <th>frequencia</th>\n",
       "      <th>frequencia_acumulada</th>\n",
       "    </tr>\n",
       "  </thead>\n",
       "  <tbody>\n",
       "    <tr>\n",
       "      <th>count</th>\n",
       "      <td>21.000000</td>\n",
       "      <td>21.000000</td>\n",
       "      <td>21.000000</td>\n",
       "    </tr>\n",
       "    <tr>\n",
       "      <th>mean</th>\n",
       "      <td>170.000000</td>\n",
       "      <td>2.380952</td>\n",
       "      <td>26.190476</td>\n",
       "    </tr>\n",
       "    <tr>\n",
       "      <th>std</th>\n",
       "      <td>6.204837</td>\n",
       "      <td>1.627151</td>\n",
       "      <td>16.612101</td>\n",
       "    </tr>\n",
       "    <tr>\n",
       "      <th>min</th>\n",
       "      <td>160.000000</td>\n",
       "      <td>1.000000</td>\n",
       "      <td>2.000000</td>\n",
       "    </tr>\n",
       "    <tr>\n",
       "      <th>25%</th>\n",
       "      <td>165.000000</td>\n",
       "      <td>1.000000</td>\n",
       "      <td>12.000000</td>\n",
       "    </tr>\n",
       "    <tr>\n",
       "      <th>50%</th>\n",
       "      <td>170.000000</td>\n",
       "      <td>2.000000</td>\n",
       "      <td>30.000000</td>\n",
       "    </tr>\n",
       "    <tr>\n",
       "      <th>75%</th>\n",
       "      <td>175.000000</td>\n",
       "      <td>3.000000</td>\n",
       "      <td>40.000000</td>\n",
       "    </tr>\n",
       "    <tr>\n",
       "      <th>max</th>\n",
       "      <td>180.000000</td>\n",
       "      <td>7.000000</td>\n",
       "      <td>50.000000</td>\n",
       "    </tr>\n",
       "  </tbody>\n",
       "</table>\n",
       "</div>"
      ],
      "text/plain": [
       "           altura  frequencia  frequencia_acumulada\n",
       "count   21.000000   21.000000             21.000000\n",
       "mean   170.000000    2.380952             26.190476\n",
       "std      6.204837    1.627151             16.612101\n",
       "min    160.000000    1.000000              2.000000\n",
       "25%    165.000000    1.000000             12.000000\n",
       "50%    170.000000    2.000000             30.000000\n",
       "75%    175.000000    3.000000             40.000000\n",
       "max    180.000000    7.000000             50.000000"
      ]
     },
     "execution_count": 88,
     "metadata": {},
     "output_type": "execute_result"
    }
   ],
   "source": [
    "alturas.describe() # aqui podemos ver o maior e menor valor"
   ]
  },
  {
   "cell_type": "code",
   "execution_count": 89,
   "metadata": {},
   "outputs": [
    {
     "data": {
      "text/plain": [
       "20"
      ]
     },
     "execution_count": 89,
     "metadata": {},
     "output_type": "execute_result"
    }
   ],
   "source": [
    "amp = alturas['altura'].max() - alturas['altura'].min()\n",
    "amp"
   ]
  },
  {
   "cell_type": "markdown",
   "metadata": {},
   "source": [
    "## Desvio médio\n",
    "\n",
    "O desvio médio (Dm) é o afastamento de cada valor em relação a média.\n",
    "\n",
    "Primeiro calculamos a média dos valores, e em seguida vamos subtrair cada valor pela média. A soma do resultados destes valores tem que dar zero. Numa segunda coluna, vamos ter o módulo de cada resultado, e também vamos somá-los.\n",
    "\n",
    "Dado `med = 8`\n",
    "\n",
    "X|Xi - med|modulo\n",
    "-|-|-|\n",
    "4|4 - 8 = -4|4\n",
    "6|6 - 8 = -2|2\n",
    "8|8 - 8 = 0|0\n",
    "9|9 - 8 = 1|1\n",
    "10|10 - 8 = 2|2\n",
    "11|11 - 8 = 3|3\n",
    "-|-|-|\n",
    "|0|12\n",
    "\n",
    "Depois de obtido o resultado, divimos pela quantidade de elementos. \n",
    "`Dm = 12 / 6 = 2`"
   ]
  },
  {
   "cell_type": "code",
   "execution_count": 91,
   "metadata": {},
   "outputs": [
    {
     "data": {
      "text/plain": [
       "8.0"
      ]
     },
     "execution_count": 91,
     "metadata": {},
     "output_type": "execute_result"
    }
   ],
   "source": [
    "lista = np.array([4,6,8,9,10,11])\n",
    "\n",
    "# agora calculamos a media\n",
    "media_lista = np.mean(lista)\n",
    "media_lista"
   ]
  },
  {
   "cell_type": "code",
   "execution_count": 103,
   "metadata": {},
   "outputs": [
    {
     "name": "stdout",
     "output_type": "stream",
     "text": [
      "O desvio médio é de 2.00\n"
     ]
    }
   ],
   "source": [
    "# Com esse formula fazemos a operação acima\n",
    "dm = np.abs(lista - (media_lista)).sum() / len(lista)\n",
    "print(\"O desvio médio é de %.2f\" % dm)"
   ]
  },
  {
   "cell_type": "markdown",
   "metadata": {},
   "source": [
    "## Variância"
   ]
  }
 ],
 "metadata": {
  "kernelspec": {
   "display_name": "Python 3",
   "language": "python",
   "name": "python3"
  },
  "language_info": {
   "codemirror_mode": {
    "name": "ipython",
    "version": 3
   },
   "file_extension": ".py",
   "mimetype": "text/x-python",
   "name": "python",
   "nbconvert_exporter": "python",
   "pygments_lexer": "ipython3",
   "version": "3.6.3"
  }
 },
 "nbformat": 4,
 "nbformat_minor": 2
}
