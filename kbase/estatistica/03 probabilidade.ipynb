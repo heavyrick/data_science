{
 "cells": [
  {
   "cell_type": "markdown",
   "metadata": {},
   "source": [
    "# Probabilidade\n",
    "\n",
    "Probabilidade (P)\n",
    "* P=1 Evento certo\n",
    "* P=0 Evento impossível\n",
    "\n",
    "**Experimento** é o que está sendo estudado\n",
    "**Espaço amostral (S)** são todas as possibilidades do evento\n",
    "**Evento**: resultados ocorridos (A)\n",
    "\n",
    "Exemplo:\n",
    "* Experimento: Jogar uma moeda e dar cara\n",
    "* Espaço amostral S = {cara, coroa}\n",
    "* Evento: A = {dar cara}\n",
    "\n",
    "`P(A) = 1/2`\n",
    "`P(A) = 0,5 ou 50%`\n",
    "\n",
    "* **Eventos excludentes**: quando não podem acontecer ao mesmo tempo. Ex: jogar um dado e ser 1 e par _ não tem como isso acontecer.\n",
    "* **Eventos não excludentes**: quando podem acontecer ao mesmo tempo. Ex: jogar um dado e ser 2 e par _ isso é possível.\n",
    "* **Eventos dependentes**: A ocorrência de um evento afeta o outro, ou seja, um evento tem que ocorrer para que depois outro ocorra.\n",
    "* **Eventos independentes**: A ocorrência de um evento não afeta o outro.\n",
    "\n",
    "Mais exemplos:\n",
    "\n",
    "Experimento: Jogar um dado e dar 6\n",
    "\n",
    "S = {1,2,3,4,5,6}\n",
    "\n",
    "A = {dar 6}\n",
    "\n",
    "`P(A) = 1/6 ou 0,16`\n",
    "\n",
    "Jogar um dado e dar 1 ou 6:\n",
    "\n",
    "S = {1,2,3,4,5,6}\n",
    "\n",
    "P(A) = {1 ou 6}\n",
    "\n",
    "`P(A) = 2/6 = 1/3 ou 0,33`"
   ]
  },
  {
   "cell_type": "code",
   "execution_count": 1,
   "metadata": {},
   "outputs": [],
   "source": [
    "import numpy as np"
   ]
  },
  {
   "cell_type": "markdown",
   "metadata": {},
   "source": [
    "**Ao lançarmos uma moeda, qual a chance de termos cara?**"
   ]
  },
  {
   "cell_type": "code",
   "execution_count": 4,
   "metadata": {},
   "outputs": [
    {
     "name": "stdout",
     "output_type": "stream",
     "text": [
      "A chance de dar cara é de 50%\n"
     ]
    }
   ],
   "source": [
    "moeda = np.array(['par','impar'])\n",
    "n_favoravel = 1 # qual a chance de dar cara?\n",
    "n_possivel = moeda.size # quantidade de casos possíveis: cara, coroa = 2\n",
    "p = (n_favoravel / n_possivel) * 100 # casos favoráveis / casos possíveis (em 100%)\n",
    "print(\"A chance de dar cara é de %2.f\" % p + '%')"
   ]
  },
  {
   "cell_type": "markdown",
   "metadata": {},
   "source": [
    "**Ao jogarmos um dado honesto, qual a chance do número ser par?**"
   ]
  },
  {
   "cell_type": "code",
   "execution_count": 5,
   "metadata": {},
   "outputs": [
    {
     "name": "stdout",
     "output_type": "stream",
     "text": [
      "A chance de do número ser par é de 50%\n"
     ]
    }
   ],
   "source": [
    "dado = np.array([1,2,3,4,5,6]) # Dado honesto rs\n",
    "n_favoravel = 3 # qual a chance do número ser par?\n",
    "n_possivel = dado.size\n",
    "p = (n_favoravel / n_possivel) * 100\n",
    "print(\"A chance de do número ser par é de %2.f\" % p + '%')"
   ]
  },
  {
   "cell_type": "markdown",
   "metadata": {},
   "source": [
    "**Qual a probabilidade de tirarmos o número 3 em um baralho?**"
   ]
  },
  {
   "cell_type": "code",
   "execution_count": 6,
   "metadata": {},
   "outputs": [],
   "source": [
    "# o = ouro, e = Espada, c = Copa, p = Paus\n",
    "baralho = np.array(\n",
    "    [\n",
    "        'Ao', '2o', '3o', '4o', '5o', '6o', '7o', '8o', '9o', '10o', 'Jo', 'Qo', 'Ko',\n",
    "        'Ae', '2e', '3e', '4e', '5e', '6e', '7e', '8e', '9e', '10e', 'Je', 'Qe', 'Ke',\n",
    "        'Ac', '2c', '3c', '4c', '5c', '6c', '7c', '8c', '9c', '10c', 'Jc', 'Qc', 'Kc',\n",
    "        'Ap', '2p', '3p', '4p', '5p', '6p', '7p', '8p', '9p', '10p', 'Jp', 'Qp', 'Kp'\n",
    "    ]\n",
    ")\n",
    "#baralho\n",
    "#baralho.size"
   ]
  },
  {
   "cell_type": "code",
   "execution_count": 7,
   "metadata": {},
   "outputs": [
    {
     "data": {
      "text/plain": [
       "7.6923076923076925"
      ]
     },
     "execution_count": 7,
     "metadata": {},
     "output_type": "execute_result"
    }
   ],
   "source": [
    "n_favoravel = 4 # qual a chance de ser um 3?\n",
    "n_possivel = baralho.size\n",
    "p = (n_favoravel / n_possivel) * 100\n",
    "p"
   ]
  },
  {
   "cell_type": "code",
   "execution_count": 28,
   "metadata": {},
   "outputs": [
    {
     "data": {
      "text/plain": [
       "17.02127659574468"
      ]
     },
     "execution_count": 28,
     "metadata": {},
     "output_type": "execute_result"
    }
   ],
   "source": [
    "# Num jogo de poker, após o flop, estão as seguintes cartas na mesa\n",
    "# [Ap], [2e], [4c]\n",
    "# O jogador possui na mão as cartas\n",
    "# [6c], [ko]\n",
    "# Qual a chance dele fazer um sequência?\n",
    "\n",
    "# Para fazer a sequência, o jogador precisa de um 3 (4 cartas) e um 5 (4 cartas)\n",
    "# Mas lembrando, 5 cartas são conhecidas, as da mesa, e as da mão do jogador\n",
    "\n",
    "n_favoravel = 8 # qual a chance de ser um 3 e 5\n",
    "n_possivel = baralho.size - (5)\n",
    "p = (n_favoravel / n_possivel) * 100\n",
    "p"
   ]
  },
  {
   "cell_type": "code",
   "execution_count": 29,
   "metadata": {},
   "outputs": [
    {
     "data": {
      "text/plain": [
       "8.695652173913043"
      ]
     },
     "execution_count": 29,
     "metadata": {},
     "output_type": "execute_result"
    }
   ],
   "source": [
    "n_favoravel = 4 # qual a chance de ser um 3 e 5\n",
    "n_possivel = baralho.size - (6)\n",
    "p = (n_favoravel / n_possivel) * 100\n",
    "p"
   ]
  },
  {
   "cell_type": "markdown",
   "metadata": {},
   "source": [
    "## Eventos excludentes\n",
    "\n",
    "Somamos as probabilidades. No exemplo, qual a probabilidade de jogar um dado e ser 1 ou par:\n",
    "\n",
    "S = {1,2,3,4,5,6}\n",
    "\n",
    "P(A) = {1}\n",
    "\n",
    "P(B) = {par}\n",
    "\n",
    "`P(A) + P(B) = 1/6 + 3/6 = 4/6 = 66%`"
   ]
  },
  {
   "cell_type": "markdown",
   "metadata": {},
   "source": [
    "## Eventos não excludentes\n",
    "\n",
    "Soma-se as probabilidades, diminui-se as interseções. No exemplo, qual a probabilidade de, ao lançarmos um dado, ser 2 ou par.\n",
    "\n",
    "`P(A) + P(B) - P(A & B) = 1/6 + 3/6 -1/6 = 3/6 = 1/3`"
   ]
  },
  {
   "cell_type": "markdown",
   "metadata": {},
   "source": [
    "## Eventos independentes\n",
    "\n",
    "Qual a probabilidade de jogar dois dados e dar 1 e 6?\n",
    "\n",
    "`1/6 * 1/6 = 1/36 = 0,027`"
   ]
  },
  {
   "cell_type": "markdown",
   "metadata": {},
   "source": [
    "## Eventos dependentes\n",
    "\n",
    "Com 6 cartas na mão (A,2,3,4,5,6) qual a probabilidade do primeiro evento tirar Ás e no segundo 4?\n",
    "\n",
    "`1/6 * 1/5 = 1/30 = 0,033`"
   ]
  },
  {
   "cell_type": "markdown",
   "metadata": {},
   "source": [
    "## Prova do cara ou coroa\n",
    "\n",
    "Na prova abaixo, vamos simular a quantidade de caras ou coroas que temos, e esperamos que, quanto maior a quantidade de provas, mais os resultados se aproximem dos 50%.\n",
    "\n",
    "Na função `coin_trial()`, a função `random.random()` irá gerar valores entre 0 e 1, caso o valor seja menor que 0,5, teremos coroa (tails), se for maior, cara (heads) recebe 1.\n",
    "\n",
    "Quanto maior a quantidade de testes, mais próximo os valores ficam dos 50%. E isso nos mostra algo bem interessante, quanto mais dados tivermos, mais próximos da realidade estamos.\n",
    "\n",
    "Este teste também é muito bom pois não precisamos fazer o teste nós mesmos (imagina, lançar uma moeda 10.000 e anotar lançamento por lançamento?).\n",
    "\n",
    "[Dataquest - Basic Statistics in Python: Probability](https://www.dataquest.io/blog/basic-statistics-in-python-probability/)"
   ]
  },
  {
   "cell_type": "code",
   "execution_count": 32,
   "metadata": {},
   "outputs": [
    {
     "data": {
      "text/plain": [
       "50.11"
      ]
     },
     "execution_count": 32,
     "metadata": {},
     "output_type": "execute_result"
    }
   ],
   "source": [
    "import random\n",
    "def coin_trial():\n",
    "    heads = 0\n",
    "    for i in range(100): # lançamento de uma moeda 100 vezes\n",
    "        if random.random() <= 0.5: # random() gera números de 0 a 1\n",
    "            heads +=1\n",
    "    return heads\n",
    "\n",
    "def simulate(n):\n",
    "    trials = []\n",
    "    for i in range(n): # quantidade de testes\n",
    "        trials.append(coin_trial()) # quantidade de caras\n",
    "    return(sum(trials)/n) # soma da quantidade de caras dividido pela quantidade de testes\n",
    "    \n",
    "simulate(1000)"
   ]
  }
 ],
 "metadata": {
  "kernelspec": {
   "display_name": "Python 3",
   "language": "python",
   "name": "python3"
  },
  "language_info": {
   "codemirror_mode": {
    "name": "ipython",
    "version": 3
   },
   "file_extension": ".py",
   "mimetype": "text/x-python",
   "name": "python",
   "nbconvert_exporter": "python",
   "pygments_lexer": "ipython3",
   "version": "3.6.3"
  }
 },
 "nbformat": 4,
 "nbformat_minor": 2
}
