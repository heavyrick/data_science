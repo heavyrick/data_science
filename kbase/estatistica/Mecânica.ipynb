{
 "cells": [
  {
   "cell_type": "code",
   "execution_count": 2,
   "metadata": {},
   "outputs": [],
   "source": [
    "import numpy as np"
   ]
  },
  {
   "cell_type": "markdown",
   "metadata": {},
   "source": [
    "<h2>Movimento Escalar</h2>\n",
    "<p>O deslocamento escalar (Δs) mede a variação de espaço efetuada pelo móvel em um determinado intervalo de tempo (Δt)</p>\n",
    "<p>ΔS = Δs2 - Δs1</p>"
   ]
  },
  {
   "cell_type": "code",
   "execution_count": 3,
   "metadata": {},
   "outputs": [
    {
     "name": "stdout",
     "output_type": "stream",
     "text": [
      "O deslocamento escalar é de 80.00 km \n"
     ]
    }
   ],
   "source": [
    "s1 = 120\n",
    "s2 = 200\n",
    "s = s2 - s1\n",
    "print('O deslocamento escalar é de %.2f km ' % s)"
   ]
  },
  {
   "cell_type": "code",
   "execution_count": 2,
   "metadata": {},
   "outputs": [
    {
     "name": "stdout",
     "output_type": "stream",
     "text": [
      "Inserir valor espaço final: 150\n"
     ]
    }
   ],
   "source": [
    "s2 = float(input(\"Inserir valor espaço final: \"))"
   ]
  },
  {
   "cell_type": "code",
   "execution_count": 3,
   "metadata": {},
   "outputs": [
    {
     "name": "stdout",
     "output_type": "stream",
     "text": [
      "Inserir valor espaço inicial: 100\n"
     ]
    }
   ],
   "source": [
    "s1 = float(input(\"Inserir valor espaço inicial: \"))"
   ]
  },
  {
   "cell_type": "code",
   "execution_count": 4,
   "metadata": {},
   "outputs": [
    {
     "name": "stdout",
     "output_type": "stream",
     "text": [
      "O deslocamento escalar é de 50.00 km \n"
     ]
    }
   ],
   "source": [
    "s = s2 - s1\n",
    "print('O deslocamento escalar é de %.2f km ' % s)"
   ]
  },
  {
   "cell_type": "markdown",
   "metadata": {},
   "source": [
    "<h2>Velocidade Escalar Média</h2>\n",
    "<p>A velocidade possui uma direção, sentido e intensidade.<br />\n",
    "Se um motorista de um carro percorre 140km em 2h, dizemos que, <b>em média</b>, ele se deslocou 70km em cada hora. Esse resultado expressa a <b>velocidade escalar média (vm)</b> e pode ser escrito da seguinte forma:\n",
    "</p>\n",
    "<p> vm = Δs / Δt</p>"
   ]
  },
  {
   "cell_type": "code",
   "execution_count": 7,
   "metadata": {},
   "outputs": [
    {
     "name": "stdout",
     "output_type": "stream",
     "text": [
      "A velocidade escalar média é de 70.00 km/h\n"
     ]
    }
   ],
   "source": [
    "s1 = 0 # espaço inicial\n",
    "s2 = 140 # espaçp final\n",
    "t1 = 0 # tempo inicial\n",
    "t2 = 2 # tempo final\n",
    "vm = (s2 - s1) / (t2 - t1)\n",
    "print(\"A velocidade escalar média é de %.2f km/h\" % vm)"
   ]
  },
  {
   "cell_type": "code",
   "execution_count": 5,
   "metadata": {},
   "outputs": [
    {
     "name": "stdout",
     "output_type": "stream",
     "text": [
      "Espaço inicial: 50\n"
     ]
    }
   ],
   "source": [
    "s1 = float(input(\"Espaço inicial: \"))"
   ]
  },
  {
   "cell_type": "code",
   "execution_count": 6,
   "metadata": {},
   "outputs": [
    {
     "name": "stdout",
     "output_type": "stream",
     "text": [
      "Espaço final: 230\n"
     ]
    }
   ],
   "source": [
    "s2 = float(input(\"Espaço final: \"))"
   ]
  },
  {
   "cell_type": "code",
   "execution_count": 7,
   "metadata": {},
   "outputs": [
    {
     "name": "stdout",
     "output_type": "stream",
     "text": [
      "Tempo inicial: 2\n"
     ]
    }
   ],
   "source": [
    "t1 = float(input(\"Tempo inicial: \"))"
   ]
  },
  {
   "cell_type": "code",
   "execution_count": 8,
   "metadata": {},
   "outputs": [
    {
     "name": "stdout",
     "output_type": "stream",
     "text": [
      "Tempo final: 8\n"
     ]
    }
   ],
   "source": [
    "t2 = float(input(\"Tempo final: \"))"
   ]
  },
  {
   "cell_type": "code",
   "execution_count": 23,
   "metadata": {},
   "outputs": [
    {
     "name": "stdout",
     "output_type": "stream",
     "text": [
      "Unidade de Tempo: [1] km/h, [2] m/s 2\n"
     ]
    }
   ],
   "source": [
    "def converter(unidade):\n",
    "    if(unidade == 1):\n",
    "        saida = 'km/h'\n",
    "    else:\n",
    "        saida = 'm/s'\n",
    "    return saida\n",
    "\n",
    "unidade = int(input(\"Unidade de Tempo: [1] km/h, [2] m/s \"))\n",
    "un = converter(unidade)"
   ]
  },
  {
   "cell_type": "code",
   "execution_count": 24,
   "metadata": {},
   "outputs": [
    {
     "name": "stdout",
     "output_type": "stream",
     "text": [
      "A velocidade escalar média é de 30.00 m/s\n"
     ]
    }
   ],
   "source": [
    "vm = (s2 - s1) / (t2 - t1)\n",
    "print(\"A velocidade escalar média é de %.2f %s\" % (vm, un))"
   ]
  },
  {
   "cell_type": "markdown",
   "metadata": {},
   "source": [
    "<h3>Conversão de Unidades</h3>\n",
    "<p>De km/h para m/s, dividir por 3,6</p>\n",
    "<p>De ms/ para km/h, multiplicar por 3,6</p>\n",
    "<p>1 km = 1000 m <br /> 1 h = 3600 s</p>"
   ]
  },
  {
   "cell_type": "code",
   "execution_count": 19,
   "metadata": {},
   "outputs": [
    {
     "name": "stdout",
     "output_type": "stream",
     "text": [
      "De km/h para m/s: 3.60 m/s\n"
     ]
    }
   ],
   "source": [
    "s = 1000 # 1 km = 1000 m\n",
    "t = 3600 # 1 h = 3600 s\n",
    "res = float(t) / float(s)\n",
    "print(\"De km/h para m/s: %.2f m/s\" % res)"
   ]
  },
  {
   "cell_type": "code",
   "execution_count": null,
   "metadata": {},
   "outputs": [],
   "source": [
    "valor = float(input(\"Insira valor em km/h: \"))\n",
    "resultado = valor / 3.6\n",
    "print(\"O resultado é %.2f m/s\" % resultado)"
   ]
  },
  {
   "cell_type": "code",
   "execution_count": null,
   "metadata": {},
   "outputs": [],
   "source": [
    ""
   ]
  }
 ],
 "metadata": {
  "kernelspec": {
   "display_name": "Python 3",
   "language": "python",
   "name": "python3"
  },
  "language_info": {
   "codemirror_mode": {
    "name": "ipython",
    "version": 3.0
   },
   "file_extension": ".py",
   "mimetype": "text/x-python",
   "name": "python",
   "nbconvert_exporter": "python",
   "pygments_lexer": "ipython3",
   "version": "3.6.1"
  }
 },
 "nbformat": 4,
 "nbformat_minor": 0
}