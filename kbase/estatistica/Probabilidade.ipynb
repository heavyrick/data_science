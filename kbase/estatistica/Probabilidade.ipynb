{
 "cells": [
  {
   "cell_type": "code",
   "execution_count": 1,
   "metadata": {},
   "outputs": [],
   "source": [
    "import numpy as np"
   ]
  },
  {
   "cell_type": "code",
   "execution_count": 7,
   "metadata": {},
   "outputs": [
    {
     "data": {
      "text/plain": [
       "2"
      ]
     },
     "execution_count": 7,
     "metadata": {},
     "output_type": "execute_result"
    }
   ],
   "source": [
    "moeda = np.array(['par','impar'])\n",
    "moeda.size"
   ]
  },
  {
   "cell_type": "code",
   "execution_count": 18,
   "metadata": {},
   "outputs": [
    {
     "name": "stdout",
     "output_type": "stream",
     "text": [
      "A chance de dar cara é de 50%\n"
     ]
    }
   ],
   "source": [
    "n_favoravel = 1 # qual a chance de dar cara?\n",
    "n_possivel = moeda.size # quantidade de casos possíveis: cara, coroa = 2\n",
    "p = (n_favoravel / n_possivel) * 100 # casos favoráveis / casos possíveis (em 100%)\n",
    "print(\"A chance de dar cara é de %2.f\" % p + '%')"
   ]
  },
  {
   "cell_type": "code",
   "execution_count": 19,
   "metadata": {},
   "outputs": [
    {
     "data": {
      "text/plain": [
       "6"
      ]
     },
     "execution_count": 19,
     "metadata": {},
     "output_type": "execute_result"
    }
   ],
   "source": [
    "dado = np.array([1,2,3,4,5,6]) # Dado honesto rs\n",
    "dado.size"
   ]
  },
  {
   "cell_type": "code",
   "execution_count": 20,
   "metadata": {},
   "outputs": [
    {
     "name": "stdout",
     "output_type": "stream",
     "text": [
      "A chance de do número ser positivo é de 50%\n"
     ]
    }
   ],
   "source": [
    "n_favoravel = 3 # qual a chance do número ser par?\n",
    "n_possivel = dado.size\n",
    "p = (n_favoravel / n_possivel) * 100\n",
    "print(\"A chance de do número ser positivo é de %2.f\" % p + '%')"
   ]
  },
  {
   "cell_type": "code",
   "execution_count": 24,
   "metadata": {},
   "outputs": [
    {
     "data": {
      "text/plain": [
       "array(['Ao', '2o', '3o', '4o', '5o', '6o', '7o', '8o', '9o', '10o', 'Jo',\n",
       "       'Qo', 'Ko', 'Ae', '2e', '3e', '4e', '5e', '6e', '7e', '8e', '9e',\n",
       "       '10e', 'Je', 'Qe', 'Ke', 'Ac', '2c', '3c', '4c', '5c', '6c', '7c',\n",
       "       '8c', '9c', '10c', 'Jc', 'Qc', 'Kc', 'Ap', '2p', '3p', '4p', '5p',\n",
       "       '6p', '7p', '8p', '9p', '10p', 'Jp', 'Qp', 'Kp'],\n",
       "      dtype='<U3')"
      ]
     },
     "execution_count": 24,
     "metadata": {},
     "output_type": "execute_result"
    }
   ],
   "source": [
    "# o = ouro, e = Espada, c = Copa, p = Paus\n",
    "baralho = np.array(\n",
    "    [\n",
    "        'Ao', '2o', '3o', '4o', '5o', '6o', '7o', '8o', '9o', '10o', 'Jo', 'Qo', 'Ko',\n",
    "        'Ae', '2e', '3e', '4e', '5e', '6e', '7e', '8e', '9e', '10e', 'Je', 'Qe', 'Ke',\n",
    "        'Ac', '2c', '3c', '4c', '5c', '6c', '7c', '8c', '9c', '10c', 'Jc', 'Qc', 'Kc',\n",
    "        'Ap', '2p', '3p', '4p', '5p', '6p', '7p', '8p', '9p', '10p', 'Jp', 'Qp', 'Kp'\n",
    "    ]\n",
    ")\n",
    "baralho"
   ]
  },
  {
   "cell_type": "code",
   "execution_count": 25,
   "metadata": {},
   "outputs": [
    {
     "data": {
      "text/plain": [
       "52"
      ]
     },
     "execution_count": 25,
     "metadata": {},
     "output_type": "execute_result"
    }
   ],
   "source": [
    "baralho.size"
   ]
  },
  {
   "cell_type": "code",
   "execution_count": 26,
   "metadata": {},
   "outputs": [
    {
     "data": {
      "text/plain": [
       "7.6923076923076925"
      ]
     },
     "execution_count": 26,
     "metadata": {},
     "output_type": "execute_result"
    }
   ],
   "source": [
    "n_favoravel = 4 # qual a chance de ser um 3?\n",
    "n_possivel = baralho.size\n",
    "p = (n_favoravel / n_possivel) * 100\n",
    "p"
   ]
  },
  {
   "cell_type": "code",
   "execution_count": 28,
   "metadata": {},
   "outputs": [
    {
     "data": {
      "text/plain": [
       "17.02127659574468"
      ]
     },
     "execution_count": 28,
     "metadata": {},
     "output_type": "execute_result"
    }
   ],
   "source": [
    "# Num jogo de poker, após o flop, estão as seguintes cartas na mesa\n",
    "# [Ap], [2e], [4c]\n",
    "# O jogador possui na mão as cartas\n",
    "# [6c], [ko]\n",
    "# Qual a chance dele fazer um sequência?\n",
    "\n",
    "# Para fazer a sequência, o jogador precisa de um 3 (4 cartas) e um 5 (4 cartas)\n",
    "# Mas lembrando, 5 cartas são conhecidas, as da mesa, e as da mão do jogador\n",
    "\n",
    "n_favoravel = 8 # qual a chance de ser um 3 e 5\n",
    "n_possivel = baralho.size - (5)\n",
    "p = (n_favoravel / n_possivel) * 100\n",
    "p"
   ]
  },
  {
   "cell_type": "code",
   "execution_count": 29,
   "metadata": {},
   "outputs": [
    {
     "data": {
      "text/plain": [
       "8.695652173913043"
      ]
     },
     "execution_count": 29,
     "metadata": {},
     "output_type": "execute_result"
    }
   ],
   "source": [
    "n_favoravel = 4 # qual a chance de ser um 3 e 5\n",
    "n_possivel = baralho.size - (6)\n",
    "p = (n_favoravel / n_possivel) * 100\n",
    "p"
   ]
  },
  {
   "cell_type": "code",
   "execution_count": null,
   "metadata": {},
   "outputs": [],
   "source": [
    ""
   ]
  }
 ],
 "metadata": {
  "kernelspec": {
   "display_name": "Python 3",
   "language": "python",
   "name": "python3"
  },
  "language_info": {
   "codemirror_mode": {
    "name": "ipython",
    "version": 3.0
   },
   "file_extension": ".py",
   "mimetype": "text/x-python",
   "name": "python",
   "nbconvert_exporter": "python",
   "pygments_lexer": "ipython3",
   "version": "3.6.3"
  }
 },
 "nbformat": 4,
 "nbformat_minor": 0
}