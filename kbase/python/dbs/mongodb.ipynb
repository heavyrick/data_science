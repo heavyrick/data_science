{
 "cells": [
  {
   "cell_type": "markdown",
   "metadata": {},
   "source": [
    "# MongoDB\n",
    "\n",
    "\n",
    "| DBMS | MongoDB   |\n",
    "|------|------|\n",
    "|   Database  | Database|\n",
    "|   Table  | Collection|\n",
    "|   Row  | Document|\n",
    "|   Column  | Field|\n",
    "|   Primary Key  | Primary Key|\n",
    "|   Table Join  | Embedded Documents|\n",
    "\n",
    "<p>Fonte <br />\n",
    "<a href=\"https://www.datacamp.com/community/tutorials/introduction-mongodb-python\" target=\"_blank\">Introduction to MongoDB and Python</a>\n",
    "</p>"
   ]
  },
  {
   "cell_type": "markdown",
   "metadata": {},
   "source": [
    "## Importação"
   ]
  },
  {
   "cell_type": "code",
   "execution_count": 26,
   "metadata": {},
   "outputs": [],
   "source": [
    "import pymongo\n",
    "from pymongo import MongoClient\n",
    "client = MongoClient()"
   ]
  },
  {
   "cell_type": "code",
   "execution_count": 27,
   "metadata": {},
   "outputs": [],
   "source": [
    "client = MongoClient('mongodb://localhost:27017')\n",
    "# client = MongoClient(\"localhost\", 27017)"
   ]
  },
  {
   "cell_type": "code",
   "execution_count": 33,
   "metadata": {},
   "outputs": [],
   "source": [
    "# Atribuindo a collection para variável\n",
    "db = client['ovni']\n",
    "ovnis_col = db['ovnis']"
   ]
  },
  {
   "cell_type": "code",
   "execution_count": 34,
   "metadata": {},
   "outputs": [
    {
     "data": {
      "text/plain": [
       "['ovnis']"
      ]
     },
     "execution_count": 34,
     "metadata": {},
     "output_type": "execute_result"
    }
   ],
   "source": [
    "# Nome da collection\n",
    "db.list_collection_names()"
   ]
  },
  {
   "cell_type": "markdown",
   "metadata": {},
   "source": [
    "### Operações com o mongo"
   ]
  },
  {
   "cell_type": "code",
   "execution_count": 38,
   "metadata": {},
   "outputs": [],
   "source": [
    "# Conta a quantidade de documentos (linhas)\n",
    "ovnis_col.count_documents({})"
   ]
  },
  {
   "cell_type": "code",
   "execution_count": 39,
   "metadata": {},
   "outputs": [
    {
     "name": "stdout",
     "output_type": "stream",
     "text": [
      "{'_id': ObjectId('5d822c771ef590395455bd11'), 'City': 'Madison', 'State': 'WI', 'Shape': 'Light', 'Sight_Date': '9/30/97', 'Sight_Time': '22:00', 'Sight_Weekday': 'terça', 'Sight_Month': 12, 'Sight_Day': 24}\n"
     ]
    }
   ],
   "source": [
    "# Imprimir uma linha\n",
    "print(ovnis_col.find_one({}))"
   ]
  },
  {
   "cell_type": "code",
   "execution_count": 44,
   "metadata": {},
   "outputs": [
    {
     "name": "stdout",
     "output_type": "stream",
     "text": [
      "{'City': 'Madison', 'State': 'WI', 'Shape': 'Light', 'Sight_Date': '9/30/97', 'Sight_Time': '22:00', 'Sight_Weekday': 'terça', 'Sight_Month': 12, 'Sight_Day': 24}\n",
      "{'City': 'San Francisco', 'State': 'CA', 'Shape': 'Triangle', 'Sight_Date': '9/28/97', 'Sight_Time': '23:15', 'Sight_Weekday': 'domingo', 'Sight_Month': 12, 'Sight_Day': 21}\n",
      "{'City': 'Egan', 'State': 'SD', 'Shape': 'Other', 'Sight_Date': '9/27/97', 'Sight_Time': '23:00', 'Sight_Weekday': 'sábado', 'Sight_Month': 12, 'Sight_Day': 20}\n",
      "{'City': 'Crestwood', 'State': 'KY', 'Shape': 'Disk', 'Sight_Date': '9/27/97', 'Sight_Time': '05:00', 'Sight_Weekday': 'sábado', 'Sight_Month': 12, 'Sight_Day': 20}\n",
      "{'City': 'Clearfield', 'State': 'UT', 'Shape': 'Triangle', 'Sight_Date': '9/25/97', 'Sight_Time': '22:00', 'Sight_Weekday': 'quinta', 'Sight_Month': 12, 'Sight_Day': 18}\n"
     ]
    }
   ],
   "source": [
    "# Limitar a quantidade de linhas e imprimi-las\n",
    "results = ovnis_col.find({},{ \"_id\": 0}).limit(5)\n",
    "for x in results:\n",
    "    print(x)"
   ]
  },
  {
   "cell_type": "markdown",
   "metadata": {},
   "source": [
    "### Mongo com pandas"
   ]
  },
  {
   "cell_type": "code",
   "execution_count": 45,
   "metadata": {},
   "outputs": [],
   "source": [
    "import pandas as pd"
   ]
  },
  {
   "cell_type": "code",
   "execution_count": 46,
   "metadata": {},
   "outputs": [],
   "source": [
    "# Atribuir dados do database do mongo para o dataframe\n",
    "ovnis_df = pd.DataFrame(list(ovnis_col.find()))"
   ]
  },
  {
   "cell_type": "code",
   "execution_count": 47,
   "metadata": {},
   "outputs": [
    {
     "data": {
      "text/html": [
       "<div>\n",
       "<style scoped>\n",
       "    .dataframe tbody tr th:only-of-type {\n",
       "        vertical-align: middle;\n",
       "    }\n",
       "\n",
       "    .dataframe tbody tr th {\n",
       "        vertical-align: top;\n",
       "    }\n",
       "\n",
       "    .dataframe thead th {\n",
       "        text-align: right;\n",
       "    }\n",
       "</style>\n",
       "<table border=\"1\" class=\"dataframe\">\n",
       "  <thead>\n",
       "    <tr style=\"text-align: right;\">\n",
       "      <th></th>\n",
       "      <th>Sight_Day</th>\n",
       "      <th>Sight_Month</th>\n",
       "    </tr>\n",
       "  </thead>\n",
       "  <tbody>\n",
       "    <tr>\n",
       "      <th>count</th>\n",
       "      <td>86978.000000</td>\n",
       "      <td>86978.000000</td>\n",
       "    </tr>\n",
       "    <tr>\n",
       "      <th>mean</th>\n",
       "      <td>15.500724</td>\n",
       "      <td>6.858918</td>\n",
       "    </tr>\n",
       "    <tr>\n",
       "      <th>std</th>\n",
       "      <td>9.114308</td>\n",
       "      <td>3.610422</td>\n",
       "    </tr>\n",
       "    <tr>\n",
       "      <th>min</th>\n",
       "      <td>1.000000</td>\n",
       "      <td>1.000000</td>\n",
       "    </tr>\n",
       "    <tr>\n",
       "      <th>25%</th>\n",
       "      <td>7.000000</td>\n",
       "      <td>3.000000</td>\n",
       "    </tr>\n",
       "    <tr>\n",
       "      <th>50%</th>\n",
       "      <td>15.000000</td>\n",
       "      <td>7.000000</td>\n",
       "    </tr>\n",
       "    <tr>\n",
       "      <th>75%</th>\n",
       "      <td>24.000000</td>\n",
       "      <td>10.000000</td>\n",
       "    </tr>\n",
       "    <tr>\n",
       "      <th>max</th>\n",
       "      <td>31.000000</td>\n",
       "      <td>12.000000</td>\n",
       "    </tr>\n",
       "  </tbody>\n",
       "</table>\n",
       "</div>"
      ],
      "text/plain": [
       "          Sight_Day   Sight_Month\n",
       "count  86978.000000  86978.000000\n",
       "mean      15.500724      6.858918\n",
       "std        9.114308      3.610422\n",
       "min        1.000000      1.000000\n",
       "25%        7.000000      3.000000\n",
       "50%       15.000000      7.000000\n",
       "75%       24.000000     10.000000\n",
       "max       31.000000     12.000000"
      ]
     },
     "execution_count": 47,
     "metadata": {},
     "output_type": "execute_result"
    }
   ],
   "source": [
    "ovnis_df.describe()"
   ]
  },
  {
   "cell_type": "code",
   "execution_count": 48,
   "metadata": {},
   "outputs": [
    {
     "data": {
      "text/html": [
       "<div>\n",
       "<style scoped>\n",
       "    .dataframe tbody tr th:only-of-type {\n",
       "        vertical-align: middle;\n",
       "    }\n",
       "\n",
       "    .dataframe tbody tr th {\n",
       "        vertical-align: top;\n",
       "    }\n",
       "\n",
       "    .dataframe thead th {\n",
       "        text-align: right;\n",
       "    }\n",
       "</style>\n",
       "<table border=\"1\" class=\"dataframe\">\n",
       "  <thead>\n",
       "    <tr style=\"text-align: right;\">\n",
       "      <th></th>\n",
       "      <th>City</th>\n",
       "      <th>Shape</th>\n",
       "      <th>Sight_Date</th>\n",
       "      <th>Sight_Day</th>\n",
       "      <th>Sight_Month</th>\n",
       "      <th>Sight_Time</th>\n",
       "      <th>Sight_Weekday</th>\n",
       "      <th>State</th>\n",
       "      <th>_id</th>\n",
       "    </tr>\n",
       "  </thead>\n",
       "  <tbody>\n",
       "    <tr>\n",
       "      <th>0</th>\n",
       "      <td>Madison</td>\n",
       "      <td>Light</td>\n",
       "      <td>9/30/97</td>\n",
       "      <td>24</td>\n",
       "      <td>12</td>\n",
       "      <td>22:00</td>\n",
       "      <td>terça</td>\n",
       "      <td>WI</td>\n",
       "      <td>5d822c771ef590395455bd11</td>\n",
       "    </tr>\n",
       "    <tr>\n",
       "      <th>1</th>\n",
       "      <td>San Francisco</td>\n",
       "      <td>Triangle</td>\n",
       "      <td>9/28/97</td>\n",
       "      <td>21</td>\n",
       "      <td>12</td>\n",
       "      <td>23:15</td>\n",
       "      <td>domingo</td>\n",
       "      <td>CA</td>\n",
       "      <td>5d822c771ef590395455bd12</td>\n",
       "    </tr>\n",
       "    <tr>\n",
       "      <th>2</th>\n",
       "      <td>Egan</td>\n",
       "      <td>Other</td>\n",
       "      <td>9/27/97</td>\n",
       "      <td>20</td>\n",
       "      <td>12</td>\n",
       "      <td>23:00</td>\n",
       "      <td>sábado</td>\n",
       "      <td>SD</td>\n",
       "      <td>5d822c771ef590395455bd13</td>\n",
       "    </tr>\n",
       "    <tr>\n",
       "      <th>3</th>\n",
       "      <td>Crestwood</td>\n",
       "      <td>Disk</td>\n",
       "      <td>9/27/97</td>\n",
       "      <td>20</td>\n",
       "      <td>12</td>\n",
       "      <td>05:00</td>\n",
       "      <td>sábado</td>\n",
       "      <td>KY</td>\n",
       "      <td>5d822c771ef590395455bd14</td>\n",
       "    </tr>\n",
       "    <tr>\n",
       "      <th>4</th>\n",
       "      <td>Clearfield</td>\n",
       "      <td>Triangle</td>\n",
       "      <td>9/25/97</td>\n",
       "      <td>18</td>\n",
       "      <td>12</td>\n",
       "      <td>22:00</td>\n",
       "      <td>quinta</td>\n",
       "      <td>UT</td>\n",
       "      <td>5d822c771ef590395455bd15</td>\n",
       "    </tr>\n",
       "  </tbody>\n",
       "</table>\n",
       "</div>"
      ],
      "text/plain": [
       "            City     Shape Sight_Date  Sight_Day  Sight_Month Sight_Time  \\\n",
       "0        Madison     Light    9/30/97         24           12      22:00   \n",
       "1  San Francisco  Triangle    9/28/97         21           12      23:15   \n",
       "2           Egan     Other    9/27/97         20           12      23:00   \n",
       "3      Crestwood      Disk    9/27/97         20           12      05:00   \n",
       "4     Clearfield  Triangle    9/25/97         18           12      22:00   \n",
       "\n",
       "  Sight_Weekday State                       _id  \n",
       "0         terça    WI  5d822c771ef590395455bd11  \n",
       "1       domingo    CA  5d822c771ef590395455bd12  \n",
       "2        sábado    SD  5d822c771ef590395455bd13  \n",
       "3        sábado    KY  5d822c771ef590395455bd14  \n",
       "4        quinta    UT  5d822c771ef590395455bd15  "
      ]
     },
     "execution_count": 48,
     "metadata": {},
     "output_type": "execute_result"
    }
   ],
   "source": [
    "ovnis_df.head()"
   ]
  }
 ],
 "metadata": {
  "kernelspec": {
   "display_name": "Python 3",
   "language": "python",
   "name": "python3"
  },
  "language_info": {
   "codemirror_mode": {
    "name": "ipython",
    "version": 3
   },
   "file_extension": ".py",
   "mimetype": "text/x-python",
   "name": "python",
   "nbconvert_exporter": "python",
   "pygments_lexer": "ipython3",
   "version": "3.7.0"
  }
 },
 "nbformat": 4,
 "nbformat_minor": 4
}
