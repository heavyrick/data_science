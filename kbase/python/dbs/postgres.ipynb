{
 "cells": [
  {
   "cell_type": "markdown",
   "metadata": {},
   "source": [
    "# Conexão com o postgres\n",
    "\n",
    "* [PostgreSQL Python: Connect To PostgreSQL Database Server](http://www.postgresqltutorial.com/postgresql-python/connect/)\n",
    "* [PostgreSQL Python: Querying Data](http://www.postgresqltutorial.com/postgresql-python/query/)\n",
    "* [Stackoverflow - How do I get a list of column names from a psycopg2 cursor?](https://stackoverflow.com/questions/10252247/how-do-i-get-a-list-of-column-names-from-a-psycopg2-cursor)"
   ]
  },
  {
   "cell_type": "code",
   "execution_count": 2,
   "metadata": {},
   "outputs": [],
   "source": [
    "import pandas as pd\n",
    "import psycopg2 "
   ]
  },
  {
   "cell_type": "markdown",
   "metadata": {},
   "source": [
    "Função `config()` recebe os dados de conexão do arquivo `database.ini` como parâmetro e os retorna."
   ]
  },
  {
   "cell_type": "code",
   "execution_count": null,
   "metadata": {},
   "outputs": [],
   "source": [
    "# Função config recebe o arqui\n",
    "from configparser import ConfigParser\n",
    "def config(filename='assets/database.ini', section='postgresql-teste'):\n",
    "    parser = ConfigParser() # create a parser\n",
    "    parser.read(filename) # read config file\n",
    " \n",
    "    # get section, default to postgresql\n",
    "    db = {}\n",
    "    if parser.has_section(section):\n",
    "        params = parser.items(section)\n",
    "        for param in params:\n",
    "            db[param[0]] = param[1]\n",
    "    else:\n",
    "        raise Exception('Seção {0} não encontrada no {1} arquivo'.format(section, filename))\n",
    "    return db"
   ]
  },
  {
   "cell_type": "markdown",
   "metadata": {},
   "source": [
    "A função abaixo é apenas de teste, e retorna a versão do banco de dados se tudo estiver certo, e mostra um erro caso houver."
   ]
  },
  {
   "cell_type": "code",
   "execution_count": null,
   "metadata": {},
   "outputs": [],
   "source": [
    "try:\n",
    "    params = config()\n",
    "    print('Conectando no banco de dados')\n",
    "    conn = psycopg2.connect(**params) # conexão com o banco de dados\n",
    "    cur = conn.cursor() # cria o cursor\n",
    "    print('Versão do banco PostgreSQL:')\n",
    "    cur.execute('SELECT version()')\n",
    "    db_version = cur.fetchone() # mostra a versão do banco\n",
    "    print(db_version) \n",
    "    cur.close() # encerra a conexão\n",
    "except (Exception, psycopg2.DatabaseError) as error:\n",
    "    print(error)\n",
    "finally:\n",
    "    if conn is not None:\n",
    "        conn.close()\n",
    "        print('Conexão encerrada')"
   ]
  },
  {
   "cell_type": "markdown",
   "metadata": {},
   "source": [
    "Na função abaixo, conectamos no banco, executamos a query e ela retorna todos os resultados para o dataframe. Em seguida, ela pega os nomes das colunas e envia para o dataframe."
   ]
  },
  {
   "cell_type": "code",
   "execution_count": null,
   "metadata": {},
   "outputs": [],
   "source": [
    "def get_products():\n",
    "    \"\"\" Query retorna os dados da tabela produtos \"\"\"\n",
    "    conn = None\n",
    "    try:\n",
    "        params = config()\n",
    "        conn = psycopg2.connect(**params)\n",
    "        cur = conn.cursor()\n",
    "        cur.execute(\"SELECT * FROM products ORDER BY id ASC LIMIT 10 OFFSET 0\")\n",
    "        df = pd.DataFrame(cur.fetchall()) # insere os dados no dataframe\n",
    "        colnames = [desc[0] for desc in cur.description] # pega as colunas\n",
    "        df.columns = colnames\n",
    "        cur.close() # encerra a conexão\n",
    "        return df # retorna o dataframe\n",
    "    except (Exception, psycopg2.DatabaseError) as error:\n",
    "        print(error)\n",
    "    finally:\n",
    "        if conn is not None:\n",
    "            conn.close()"
   ]
  },
  {
   "cell_type": "code",
   "execution_count": null,
   "metadata": {},
   "outputs": [],
   "source": [
    "base_produtos = get_products()\n",
    "base_produtos.head()"
   ]
  }
 ],
 "metadata": {
  "kernelspec": {
   "display_name": "Python 3",
   "language": "python",
   "name": "python3"
  },
  "language_info": {
   "codemirror_mode": {
    "name": "ipython",
    "version": 3
   },
   "file_extension": ".py",
   "mimetype": "text/x-python",
   "name": "python",
   "nbconvert_exporter": "python",
   "pygments_lexer": "ipython3",
   "version": "3.7.3"
  }
 },
 "nbformat": 4,
 "nbformat_minor": 4
}
