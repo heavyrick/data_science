{
 "cells": [
  {
   "cell_type": "markdown",
   "metadata": {},
   "source": [
    "## Mapas com Ipyleaflet\n",
    "\n",
    "[Docs](https://ipyleaflet.readthedocs.io/en/latest/index.html)"
   ]
  },
  {
   "cell_type": "code",
   "execution_count": 1,
   "metadata": {},
   "outputs": [],
   "source": [
    "# Carregar bibliotecas\n",
    "%matplotlib inline\n",
    "import pandas as pd\n",
    "import numpy as np\n",
    "import matplotlib.pyplot as plt\n",
    "import seaborn as sns\n",
    "\n",
    "from ipywidgets import HTML\n",
    "from ipyleaflet import Map, Marker, basemaps, basemap_to_tiles, MarkerCluster, MeasureControl, Popup"
   ]
  },
  {
   "cell_type": "code",
   "execution_count": 2,
   "metadata": {},
   "outputs": [],
   "source": [
    "# Carregando dados das coordenadas das seções eleitorais\n",
    "base_secoes = pd.read_csv('data/locais_votacao_americana_coords.csv', delimiter=';', encoding='latin-1')"
   ]
  },
  {
   "cell_type": "code",
   "execution_count": 3,
   "metadata": {},
   "outputs": [],
   "source": [
    "locais_votacao = base_secoes.drop_duplicates(subset=\"Local\").drop(\n",
    "    ['Unnamed: 10', 'Unnamed: 11'],axis=1\n",
    ").reset_index()"
   ]
  },
  {
   "cell_type": "code",
   "execution_count": 4,
   "metadata": {},
   "outputs": [
    {
     "data": {
      "text/html": [
       "<div>\n",
       "<style scoped>\n",
       "    .dataframe tbody tr th:only-of-type {\n",
       "        vertical-align: middle;\n",
       "    }\n",
       "\n",
       "    .dataframe tbody tr th {\n",
       "        vertical-align: top;\n",
       "    }\n",
       "\n",
       "    .dataframe thead th {\n",
       "        text-align: right;\n",
       "    }\n",
       "</style>\n",
       "<table border=\"1\" class=\"dataframe\">\n",
       "  <thead>\n",
       "    <tr style=\"text-align: right;\">\n",
       "      <th></th>\n",
       "      <th>index</th>\n",
       "      <th>Zona</th>\n",
       "      <th>Seção</th>\n",
       "      <th>Local</th>\n",
       "      <th>Latitude</th>\n",
       "      <th>Longitude</th>\n",
       "      <th>Local Seção</th>\n",
       "      <th>Endereço</th>\n",
       "      <th>Bairro</th>\n",
       "      <th>IdBairro</th>\n",
       "      <th>Cidade</th>\n",
       "    </tr>\n",
       "  </thead>\n",
       "  <tbody>\n",
       "    <tr>\n",
       "      <th>0</th>\n",
       "      <td>0</td>\n",
       "      <td>158</td>\n",
       "      <td>307</td>\n",
       "      <td>1</td>\n",
       "      <td>-22.751364</td>\n",
       "      <td>-47.328628</td>\n",
       "      <td>CEEJA - CENTRO ESTADUAL EDUCACIONAL DE JOVENS ...</td>\n",
       "      <td>RUA RIACHUELO, 700</td>\n",
       "      <td>VILA SANTA CATARINA</td>\n",
       "      <td>1</td>\n",
       "      <td>AMERICANA</td>\n",
       "    </tr>\n",
       "    <tr>\n",
       "      <th>1</th>\n",
       "      <td>2</td>\n",
       "      <td>158</td>\n",
       "      <td>235</td>\n",
       "      <td>2</td>\n",
       "      <td>-22.713992</td>\n",
       "      <td>-47.363757</td>\n",
       "      <td>CIEP PROFº ANISIO SPINOLA TEIXEIRA</td>\n",
       "      <td>R HUMBERTO POLO, 200</td>\n",
       "      <td>PARQUE SÃO JERÔNIMO</td>\n",
       "      <td>2</td>\n",
       "      <td>AMERICANA</td>\n",
       "    </tr>\n",
       "    <tr>\n",
       "      <th>2</th>\n",
       "      <td>14</td>\n",
       "      <td>158</td>\n",
       "      <td>237</td>\n",
       "      <td>3</td>\n",
       "      <td>-22.750728</td>\n",
       "      <td>-47.359070</td>\n",
       "      <td>COLEGIO ANTARES</td>\n",
       "      <td>R ICARAI, 100</td>\n",
       "      <td>JARDIM IPIRANGA</td>\n",
       "      <td>3</td>\n",
       "      <td>AMERICANA</td>\n",
       "    </tr>\n",
       "    <tr>\n",
       "      <th>3</th>\n",
       "      <td>19</td>\n",
       "      <td>158</td>\n",
       "      <td>9</td>\n",
       "      <td>4</td>\n",
       "      <td>-22.737230</td>\n",
       "      <td>-47.330483</td>\n",
       "      <td>COLEGIO COMERCIAL DOM PEDRO II</td>\n",
       "      <td>R DR HEITOR PENTEADO, 8</td>\n",
       "      <td>CENTRO</td>\n",
       "      <td>4</td>\n",
       "      <td>AMERICANA</td>\n",
       "    </tr>\n",
       "    <tr>\n",
       "      <th>4</th>\n",
       "      <td>26</td>\n",
       "      <td>158</td>\n",
       "      <td>16</td>\n",
       "      <td>5</td>\n",
       "      <td>-22.748206</td>\n",
       "      <td>-47.323799</td>\n",
       "      <td>E.E. DR. JOÃO DE CASTRO GONÇALVES</td>\n",
       "      <td>RUA TIBIRIÇÁ, 449</td>\n",
       "      <td>CONSERVA</td>\n",
       "      <td>5</td>\n",
       "      <td>AMERICANA</td>\n",
       "    </tr>\n",
       "  </tbody>\n",
       "</table>\n",
       "</div>"
      ],
      "text/plain": [
       "   index  Zona  Seção  Local   Latitude  Longitude  \\\n",
       "0      0   158    307      1 -22.751364 -47.328628   \n",
       "1      2   158    235      2 -22.713992 -47.363757   \n",
       "2     14   158    237      3 -22.750728 -47.359070   \n",
       "3     19   158      9      4 -22.737230 -47.330483   \n",
       "4     26   158     16      5 -22.748206 -47.323799   \n",
       "\n",
       "                                         Local Seção                 Endereço  \\\n",
       "0  CEEJA - CENTRO ESTADUAL EDUCACIONAL DE JOVENS ...       RUA RIACHUELO, 700   \n",
       "1                 CIEP PROFº ANISIO SPINOLA TEIXEIRA     R HUMBERTO POLO, 200   \n",
       "2                                    COLEGIO ANTARES            R ICARAI, 100   \n",
       "3                     COLEGIO COMERCIAL DOM PEDRO II  R DR HEITOR PENTEADO, 8   \n",
       "4                  E.E. DR. JOÃO DE CASTRO GONÇALVES        RUA TIBIRIÇÁ, 449   \n",
       "\n",
       "                Bairro  IdBairro     Cidade  \n",
       "0  VILA SANTA CATARINA         1  AMERICANA  \n",
       "1  PARQUE SÃO JERÔNIMO         2  AMERICANA  \n",
       "2      JARDIM IPIRANGA         3  AMERICANA  \n",
       "3               CENTRO         4  AMERICANA  \n",
       "4             CONSERVA         5  AMERICANA  "
      ]
     },
     "execution_count": 4,
     "metadata": {},
     "output_type": "execute_result"
    }
   ],
   "source": [
    "locais_votacao.head()"
   ]
  },
  {
   "cell_type": "markdown",
   "metadata": {},
   "source": [
    "**Cluster**"
   ]
  },
  {
   "cell_type": "code",
   "execution_count": 5,
   "metadata": {},
   "outputs": [
    {
     "data": {
      "application/vnd.jupyter.widget-view+json": {
       "model_id": "8ae526f48269407ebb56da899920ffbc",
       "version_major": 2,
       "version_minor": 0
      },
      "text/plain": [
       "Map(basemap={'url': 'https://{s}.tile.openstreetmap.org/{z}/{x}/{y}.png', 'max_zoom': 19, 'attribution': 'Map …"
      ]
     },
     "metadata": {},
     "output_type": "display_data"
    }
   ],
   "source": [
    "map = Map(center=(-22.737593, -47.333593), zoom=5) # centralizar no centro de Americana\n",
    "\n",
    "list = []\n",
    "x = []\n",
    "for i,j in zip(locais_votacao['Latitude'], locais_votacao['Longitude']):\n",
    "    x = Marker(location=(i, j))\n",
    "    list.append(x)\n",
    "    \n",
    "marker_cluster = MarkerCluster(\n",
    "    markers=(list)\n",
    ")  \n",
    "\n",
    "map.add_layer(marker_cluster);\n",
    "map"
   ]
  },
  {
   "cell_type": "markdown",
   "metadata": {},
   "source": [
    "**Marker**"
   ]
  },
  {
   "cell_type": "code",
   "execution_count": 20,
   "metadata": {},
   "outputs": [
    {
     "data": {
      "application/vnd.jupyter.widget-view+json": {
       "model_id": "ccdf53cad2e74d4e874e8bad36f965ed",
       "version_major": 2,
       "version_minor": 0
      },
      "text/plain": [
       "Map(basemap={'url': 'https://{s}.tile.openstreetmap.org/{z}/{x}/{y}.png', 'max_zoom': 19, 'attribution': 'Map …"
      ]
     },
     "metadata": {},
     "output_type": "display_data"
    }
   ],
   "source": [
    "map2 = Map(center=(-22.737593, -47.333593), zoom=12) # centralizar no centro de Americana\n",
    "\n",
    "list = []\n",
    "x = []\n",
    "for i,j in zip(locais_votacao['Latitude'], locais_votacao['Longitude']):\n",
    "    marker = Marker(location=(i, j), draggable=False)\n",
    "    map2.add_layer(marker);\n",
    "map2"
   ]
  },
  {
   "cell_type": "markdown",
   "metadata": {},
   "source": [
    "**Marker with Popup**"
   ]
  },
  {
   "cell_type": "code",
   "execution_count": 8,
   "metadata": {},
   "outputs": [
    {
     "data": {
      "application/vnd.jupyter.widget-view+json": {
       "model_id": "1eb129df90b44c118b19120baeacc026",
       "version_major": 2,
       "version_minor": 0
      },
      "text/plain": [
       "Map(basemap={'url': 'https://{s}.tile.openstreetmap.org/{z}/{x}/{y}.png', 'max_zoom': 19, 'attribution': 'Map …"
      ]
     },
     "metadata": {},
     "output_type": "display_data"
    }
   ],
   "source": [
    "map3 = Map(center=(-22.737593, -47.333593), zoom=12) # centralizar no centro de Americana\n",
    "\n",
    "list = []\n",
    "num = 1\n",
    "for i,j,a,b,c in zip(\n",
    "    locais_votacao['Latitude'], \n",
    "    locais_votacao['Longitude'], \n",
    "    locais_votacao['Zona'],\n",
    "    locais_votacao['Seção'],\n",
    "    locais_votacao['Local Seção']\n",
    "):\n",
    "    marker = Marker(location=(i, j), draggable=False)\n",
    "    \n",
    "    message = 'message' + str(num)\n",
    "    vars()[message] = HTML()\n",
    "    vars()[message].description = str(a)\n",
    "    vars()[message].value = str(j)\n",
    "    \n",
    "    map3.add_layer(marker)\n",
    "    marker.popup = vars()[message]\n",
    "    num += 1\n",
    "map3\n"
   ]
  },
  {
   "cell_type": "code",
   "execution_count": 9,
   "metadata": {},
   "outputs": [
    {
     "name": "stdout",
     "output_type": "stream",
     "text": [
      "123\n",
      "124\n",
      "125\n",
      "126\n",
      "127\n"
     ]
    }
   ],
   "source": [
    "for x in range(0,5):\n",
    "    food = 'message' + str(x)\n",
    "    vars()[food] = 123 + x\n",
    "    print(vars()['message' + str(x)])"
   ]
  }
 ],
 "metadata": {
  "kernelspec": {
   "display_name": "Python 3",
   "language": "python",
   "name": "python3"
  },
  "language_info": {
   "codemirror_mode": {
    "name": "ipython",
    "version": 3
   },
   "file_extension": ".py",
   "mimetype": "text/x-python",
   "name": "python",
   "nbconvert_exporter": "python",
   "pygments_lexer": "ipython3",
   "version": "3.7.3"
  }
 },
 "nbformat": 4,
 "nbformat_minor": 4
}
