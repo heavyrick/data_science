{
 "cells": [
  {
   "cell_type": "markdown",
   "metadata": {},
   "source": [
    "## Matrizes\n",
    "Uma matriz é uma estrutura de dados multidimensional onde os valores são organizados em linhas e colunas."
   ]
  },
  {
   "cell_type": "markdown",
   "metadata": {},
   "source": [
    "O python não tem uma estrutura própria para matrizes, mas se pode trabalhar com lista de listas."
   ]
  },
  {
   "cell_type": "code",
   "execution_count": 4,
   "metadata": {},
   "outputs": [
    {
     "name": "stdout",
     "output_type": "stream",
     "text": [
      "[[1, 4, 5, 12], [-5, 8, 9, 0], [-6, 7, 11, 19]]\n"
     ]
    }
   ],
   "source": [
    "# Matriz com 4 colunas e 3 linhas\n",
    "mat = [[1, 4, 5, 12], \n",
    "    [-5, 8, 9, 0],\n",
    "    [-6, 7, 11, 19]]\n",
    "print(mat)"
   ]
  },
  {
   "cell_type": "code",
   "execution_count": 5,
   "metadata": {},
   "outputs": [
    {
     "name": "stdout",
     "output_type": "stream",
     "text": [
      "mat = [[1, 4, 5, 12], [-5, 8, 9, 0], [-6, 7, 11, 19]]\n",
      "mat[1] = [-5, 8, 9, 0]\n",
      "mat[1][2] = 9\n",
      "mat[0][-1] = 12\n"
     ]
    }
   ],
   "source": [
    "print(\"mat =\", mat) \n",
    "print(\"mat[1] =\", mat[1])      # Segunda linha\n",
    "print(\"mat[1][2] =\", mat[1][2])   # Terceiro elemento da segunda linha\n",
    "print(\"mat[0][-1] =\", mat[0][-1])   # último elemento da primeira linha"
   ]
  },
  {
   "cell_type": "markdown",
   "metadata": {},
   "source": [
    "### Numpy"
   ]
  },
  {
   "cell_type": "code",
   "execution_count": 1,
   "metadata": {},
   "outputs": [],
   "source": [
    "import numpy as np"
   ]
  },
  {
   "cell_type": "code",
   "execution_count": 6,
   "metadata": {},
   "outputs": [
    {
     "name": "stdout",
     "output_type": "stream",
     "text": [
      "[1 2 3]\n",
      "<class 'numpy.ndarray'>\n"
     ]
    }
   ],
   "source": [
    "a = np.array([1, 2, 3])\n",
    "print(a)\n",
    "print(type(a))"
   ]
  },
  {
   "cell_type": "code",
   "execution_count": 9,
   "metadata": {},
   "outputs": [
    {
     "name": "stdout",
     "output_type": "stream",
     "text": [
      "[[ 1  4  5 12]\n",
      " [-5  8  9  0]\n",
      " [-6  7 11 19]]\n"
     ]
    }
   ],
   "source": [
    "# mesma estrutura da matriz anterior 3x4 (3 linhas x 4 colunas)\n",
    "_mat = np.array([[1,4,5,12],[-5, 8, 9, 0],[-6, 7, 11, 19]])\n",
    "print(_mat)"
   ]
  },
  {
   "cell_type": "code",
   "execution_count": 14,
   "metadata": {},
   "outputs": [
    {
     "name": "stdout",
     "output_type": "stream",
     "text": [
      "[-5  8  9  0]\n",
      "9\n",
      "12\n"
     ]
    }
   ],
   "source": [
    "print(_mat[1]) # Segunda linha\n",
    "print(_mat[1][2]) # terceiro elemento da segunda linha\n",
    "print(_mat[0][-1]) # último elemento da primeira linha"
   ]
  }
 ],
 "metadata": {
  "kernelspec": {
   "display_name": "Python 3",
   "language": "python",
   "name": "python3"
  },
  "language_info": {
   "codemirror_mode": {
    "name": "ipython",
    "version": 3
   },
   "file_extension": ".py",
   "mimetype": "text/x-python",
   "name": "python",
   "nbconvert_exporter": "python",
   "pygments_lexer": "ipython3",
   "version": "3.7.3"
  }
 },
 "nbformat": 4,
 "nbformat_minor": 4
}
