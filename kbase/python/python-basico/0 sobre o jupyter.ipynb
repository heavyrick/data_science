{
 "cells": [
  {
   "cell_type": "markdown",
   "metadata": {},
   "source": [
    "# Jupyter"
   ]
  },
  {
   "cell_type": "markdown",
   "metadata": {},
   "source": [
    "O jupyter é um ambiente web interativo de desenvolvimento que suporta várias linguagens de programação, mas normalmente se utiliza o python. Este ambiente possibilita para estudantes, cientistas e pesquisadores um ambiente de análise em um único documento."
   ]
  },
  {
   "cell_type": "markdown",
   "metadata": {},
   "source": [
    "Veja um exemplo de um notebook completo: [Example Notebook](http://nbviewer.jupyter.org/github/cossatot/lanf_earthquake_likelihood/blob/master/notebooks/lanf_manuscript_notebook.ipynb)"
   ]
  },
  {
   "cell_type": "markdown",
   "metadata": {},
   "source": [
    "### O que é Markdown?\n",
    "\n",
    "Markdown é uma linguagem de marcação (tipo um html, mas não usa tags) que utiliza texto-plano para formatar sua sintaxe.\n",
    "\n",
    "Exemplos:\n",
    "\n",
    "* Headers (Cabeçalhos);\n",
    "* Modificadores de negrito e itálico;\n",
    "* Listas ordenadas e desordenadas;\n",
    "* Links;\n",
    "* Tabelas;\n",
    "* Imagens, etc."
   ]
  },
  {
   "cell_type": "markdown",
   "metadata": {},
   "source": [
    "Cabeçalhos:\n",
    "\n",
    "# H1\n",
    "## H2\n",
    "### H3\n",
    "#### H4\n",
    "##### H5\n",
    "###### H6"
   ]
  },
  {
   "cell_type": "markdown",
   "metadata": {},
   "source": [
    "Modificadores de texto:\n",
    "\n",
    "Emphasis, aka italics, with *asterisks* or _underscores_.\n",
    "\n",
    "Strong emphasis, aka bold, with **asterisks** or __underscores__.\n",
    "\n",
    "Combined emphasis with **asterisks and _underscores_**.\n",
    "\n",
    "Strikethrough uses two tildes. ~~Scratch this.~~"
   ]
  },
  {
   "cell_type": "markdown",
   "metadata": {},
   "source": [
    "Listas:\n",
    "\n",
    "1. First ordered list item\n",
    "2. Another item\n",
    "  * Unordered sub-list. \n",
    "1. Actual numbers don't matter, just that it's a number\n",
    "  1. Ordered sub-list\n",
    "4. And another item.\n",
    "\n",
    "* Unordered list can use asterisks\n",
    "- Or minuses\n",
    "+ Or pluses"
   ]
  },
  {
   "cell_type": "markdown",
   "metadata": {},
   "source": [
    "Links:\n",
    "\n",
    "http://www.umich.edu\n",
    "\n",
    "<http://www.umich.edu>\n",
    "\n",
    "[The University of Michigan's Homepage](www.http://umich.edu/)\n",
    "\n",
    "To look into more examples of Markdown syntax and features such as tables, images, etc. head to the following link: [Markdown Reference](https://github.com/adam-p/markdown-here/wiki/Markdown-Cheatsheet)"
   ]
  },
  {
   "cell_type": "markdown",
   "metadata": {},
   "source": [
    "### Command vs. Edit Mode / Atalhos\n",
    "\n",
    "Existe um modo de comando e um modo de edição no jupyter. Estes modos são identificáveis pela cor da borda esquerda da célula de comando.\n",
    "\n",
    "Azul = Modo de comando\n",
    "\n",
    "Verde = Mode de edição\n",
    "\n",
    "Para alterar para o modo de comando, basta pressionar **esc**.\n",
    "\n",
    "\n",
    "#### Atalhos\n",
    "\n",
    "Lista de atalhos:\n",
    "\n",
    "![Jupyter Notebook Shortcuts](assets/shortcuts.png)"
   ]
  }
 ],
 "metadata": {
  "kernelspec": {
   "display_name": "Python 3",
   "language": "python",
   "name": "python3"
  },
  "language_info": {
   "codemirror_mode": {
    "name": "ipython",
    "version": 3
   },
   "file_extension": ".py",
   "mimetype": "text/x-python",
   "name": "python",
   "nbconvert_exporter": "python",
   "pygments_lexer": "ipython3",
   "version": "3.7.3"
  }
 },
 "nbformat": 4,
 "nbformat_minor": 4
}
