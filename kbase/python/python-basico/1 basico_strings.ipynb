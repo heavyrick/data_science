{
 "cells": [
  {
   "cell_type": "markdown",
   "metadata": {},
   "source": [
    "**Atribuição na variável!** Criamos a variável `var` e atribuímos o valor 1 usando o operador `=`.\n",
    "\n",
    "> **obs**: se programou em outras linguagens, perceberá algumas diferenças para o python:  \n",
    "- Não é preciso declarar `var` antes de atribuir algum valor a ela, nem definir seu tipo\n",
    "- Não deve se usar ponto-e-vírgula no fim dos comandos, a própria quebra de linha é entendido como fim do comando"
   ]
  },
  {
   "cell_type": "code",
   "execution_count": 7,
   "metadata": {},
   "outputs": [],
   "source": [
    "var = 1"
   ]
  },
  {
   "cell_type": "markdown",
   "metadata": {},
   "source": [
    "**Comentários** Os comentários de uma linha são feitos usando o caractere `#` e o de múltiplas linhas utilizando-se triplas aspas `\"\"\"\" \"\"\"`"
   ]
  },
  {
   "cell_type": "code",
   "execution_count": 8,
   "metadata": {},
   "outputs": [
    {
     "data": {
      "text/plain": [
       "'\\nmúltiplas \\nlinhas\\n'"
      ]
     },
     "execution_count": 8,
     "metadata": {},
     "output_type": "execute_result"
    }
   ],
   "source": [
    "# uma linha\n",
    "\"\"\"\n",
    "múltiplas \n",
    "linhas\n",
    "\"\"\""
   ]
  },
  {
   "cell_type": "markdown",
   "metadata": {},
   "source": [
    "**Espaço em branco** Os espaços em branco (ou tabulações) são usados para estruturar o código. No exemplo abaixo temos a função `soma()`, e para indicar o bloco de comandos que está dentro da função, usamos 4 espaços _ diferente do PHP por exemplo, onde usam-se chaves {} para indicar o que está dentro do bloco."
   ]
  },
  {
   "cell_type": "code",
   "execution_count": 17,
   "metadata": {},
   "outputs": [
    {
     "name": "stdout",
     "output_type": "stream",
     "text": [
      "15\n"
     ]
    }
   ],
   "source": [
    "def soma(a, b):\n",
    "    # recebe e soma a + b, e imprime o resultado\n",
    "    c = a + b\n",
    "    print(c)\n",
    "soma(10,5)"
   ]
  },
  {
   "cell_type": "markdown",
   "metadata": {},
   "source": [
    "**Tipos de dados**"
   ]
  },
  {
   "cell_type": "code",
   "execution_count": 26,
   "metadata": {},
   "outputs": [
    {
     "name": "stdout",
     "output_type": "stream",
     "text": [
      "<class 'str'>\n"
     ]
    }
   ],
   "source": [
    "# Tipo string\n",
    "tipo1 = 'texto'\n",
    "print(type(tipo1))"
   ]
  },
  {
   "cell_type": "code",
   "execution_count": 27,
   "metadata": {},
   "outputs": [
    {
     "name": "stdout",
     "output_type": "stream",
     "text": [
      "<class 'int'>\n"
     ]
    }
   ],
   "source": [
    "# Tipo inteiro\n",
    "tipo2 = 2018\n",
    "print(type(tipo2))"
   ]
  },
  {
   "cell_type": "code",
   "execution_count": 28,
   "metadata": {},
   "outputs": [
    {
     "name": "stdout",
     "output_type": "stream",
     "text": [
      "<class 'float'>\n"
     ]
    }
   ],
   "source": [
    "# Tipo float\n",
    "tipo3 = 1.25\n",
    "print(type(tipo3))"
   ]
  },
  {
   "cell_type": "code",
   "execution_count": 29,
   "metadata": {},
   "outputs": [
    {
     "name": "stdout",
     "output_type": "stream",
     "text": [
      "<class 'bool'>\n"
     ]
    }
   ],
   "source": [
    "# Tipo boolean\n",
    "tipo4 = True\n",
    "print(type(tipo4))"
   ]
  },
  {
   "cell_type": "code",
   "execution_count": 30,
   "metadata": {},
   "outputs": [
    {
     "name": "stdout",
     "output_type": "stream",
     "text": [
      "<class 'list'>\n"
     ]
    }
   ],
   "source": [
    "# Tipo list\n",
    "tipo5 = [1,2,3,4, 'um', 'dois', False]\n",
    "print(type(tipo5))"
   ]
  },
  {
   "cell_type": "code",
   "execution_count": 32,
   "metadata": {},
   "outputs": [
    {
     "name": "stdout",
     "output_type": "stream",
     "text": [
      "<class 'dict'>\n"
     ]
    }
   ],
   "source": [
    "# Tipo dictionary\n",
    "tipo6 = {'a': 1, 'b': 2}\n",
    "print(type(tipo6))"
   ]
  },
  {
   "cell_type": "markdown",
   "metadata": {},
   "source": [
    "**Números e cálculos** "
   ]
  },
  {
   "cell_type": "code",
   "execution_count": 18,
   "metadata": {},
   "outputs": [
    {
     "name": "stdout",
     "output_type": "stream",
     "text": [
      "15\n"
     ]
    }
   ],
   "source": [
    "# Adição\n",
    "soma = 10 + 5\n",
    "print(soma)"
   ]
  },
  {
   "cell_type": "code",
   "execution_count": 19,
   "metadata": {},
   "outputs": [
    {
     "name": "stdout",
     "output_type": "stream",
     "text": [
      "9\n"
     ]
    }
   ],
   "source": [
    "# Subtração\n",
    "subtracao = 10 - 1\n",
    "print(subtracao)"
   ]
  },
  {
   "cell_type": "code",
   "execution_count": 20,
   "metadata": {},
   "outputs": [
    {
     "name": "stdout",
     "output_type": "stream",
     "text": [
      "50\n"
     ]
    }
   ],
   "source": [
    "# Multiplicação\n",
    "multiplicacao = 10 * 5\n",
    "print(multiplicacao)"
   ]
  },
  {
   "cell_type": "code",
   "execution_count": 21,
   "metadata": {},
   "outputs": [
    {
     "name": "stdout",
     "output_type": "stream",
     "text": [
      "3.0\n"
     ]
    }
   ],
   "source": [
    "# Divisão\n",
    "divisao = 51 / 17\n",
    "print(divisao)"
   ]
  },
  {
   "cell_type": "code",
   "execution_count": 34,
   "metadata": {},
   "outputs": [
    {
     "name": "stdout",
     "output_type": "stream",
     "text": [
      "3\n"
     ]
    }
   ],
   "source": [
    "# Divisão inteira\n",
    "divisao = 51 // 15\n",
    "print(divisao)"
   ]
  },
  {
   "cell_type": "code",
   "execution_count": 23,
   "metadata": {},
   "outputs": [
    {
     "name": "stdout",
     "output_type": "stream",
     "text": [
      "1\n"
     ]
    }
   ],
   "source": [
    "# Módulo da divisão\n",
    "modulo = 3 % 2 #resto da divisão\n",
    "print(modulo)"
   ]
  },
  {
   "cell_type": "code",
   "execution_count": 22,
   "metadata": {},
   "outputs": [
    {
     "name": "stdout",
     "output_type": "stream",
     "text": [
      "8\n"
     ]
    }
   ],
   "source": [
    "# Potenciação\n",
    "expoente = 2 ** 3 #resultado: 2^3 = 8\n",
    "print(expoente)"
   ]
  },
  {
   "cell_type": "markdown",
   "metadata": {},
   "source": [
    "> **obs**: lembrando que a ordem das operações obedece as regras matemáticas\n",
    "- 1 Operação entre parentêses\n",
    "- 2 Expoentes\n",
    "- 3 Multiplicação e divisão\n",
    "- 4 Adição e subtração\n",
    "- E quando forem operações de mesma hierarquia, sempre da esquerda para direita"
   ]
  },
  {
   "cell_type": "code",
   "execution_count": 48,
   "metadata": {},
   "outputs": [
    {
     "name": "stdout",
     "output_type": "stream",
     "text": [
      "A primeira operação é igual a 29\n",
      "a segunda operação é igual a 33\n",
      "a terceira operação é igual a 31\n"
     ]
    }
   ],
   "source": [
    "# 2 + 9 x 3\n",
    "res1 = 2 + 9 * 3 \n",
    "\n",
    "# (2 + 9) x 3\n",
    "res2 = (2 + 9) * 3 \n",
    "\n",
    "# 2² + 9 x 3\n",
    "res3 = 2 ** 2 + 9 * 3\n",
    "\n",
    "print(\"A primeira operação é igual a \" + str(res1) + '\\na segunda operação é igual a ' + str(res2) + \"\\na terceira operação é igual a \" + str(res3))"
   ]
  },
  {
   "cell_type": "markdown",
   "metadata": {},
   "source": [
    "**Imprimir valores numéricos**"
   ]
  },
  {
   "cell_type": "code",
   "execution_count": 43,
   "metadata": {},
   "outputs": [
    {
     "name": "stdout",
     "output_type": "stream",
     "text": [
      "Preço do arroz: R$ 12.99\n",
      "Quantidade de sacos: 6\n",
      "O valor total é de R$ 77.94\n"
     ]
    }
   ],
   "source": [
    "preco_arroz = 12.99 # float\n",
    "quantidade_sacos = 6 # inteiro\n",
    "\n",
    "print('Preço do arroz: R$ %.2f' % preco_arroz)\n",
    "print('Quantidade de sacos: %d' % quantidade_sacos)\n",
    "print('O valor total é de R$', str(preco_arroz * quantidade_sacos))"
   ]
  },
  {
   "cell_type": "markdown",
   "metadata": {},
   "source": [
    "**Operações com strings**: Strings são vetores de caracteres, e por isso podem ser manipuladas como tais"
   ]
  },
  {
   "cell_type": "code",
   "execution_count": 19,
   "metadata": {},
   "outputs": [
    {
     "name": "stdout",
     "output_type": "stream",
     "text": [
      "N\n",
      "e\n",
      "c\n"
     ]
    }
   ],
   "source": [
    "filosofo = \"Nietzsche\"\n",
    "print(filosofo[0]) # imprime o primeiro caractere\n",
    "print(filosofo[-1]) # imprime o último caractere\n",
    "print(filosofo[-3]) # imprime a 3º letra contando do fim"
   ]
  },
  {
   "cell_type": "code",
   "execution_count": 29,
   "metadata": {},
   "outputs": [
    {
     "name": "stdout",
     "output_type": "stream",
     "text": [
      "Niet\n",
      "zsche\n",
      "che\n",
      "tzsc\n"
     ]
    }
   ],
   "source": [
    "print(filosofo[:4]) # imprime os primeiros 4 caracteres\n",
    "print(filosofo[4:]) # imprime do 4º caractere em diante\n",
    "print(filosofo[-3:]) # imprime os 3 últimos caracteres\n",
    "print(filosofo[3:7]) # imprime do 3º ao 7º caractere"
   ]
  },
  {
   "cell_type": "code",
   "execution_count": 48,
   "metadata": {},
   "outputs": [
    {
     "name": "stdout",
     "output_type": "stream",
     "text": [
      "AAAAAAAAAA\n"
     ]
    }
   ],
   "source": [
    "letra = 'A'\n",
    "print(10 * letra) # imprime a letra A 10 vezes"
   ]
  },
  {
   "cell_type": "markdown",
   "metadata": {},
   "source": [
    "#### Concatenar"
   ]
  },
  {
   "cell_type": "code",
   "execution_count": 30,
   "metadata": {},
   "outputs": [
    {
     "name": "stdout",
     "output_type": "stream",
     "text": [
      "Friedrich Nietzsche\n"
     ]
    }
   ],
   "source": [
    "nome = 'Friedrich'\n",
    "sobrenome = 'Nietzsche'\n",
    "nome_completo = nome + ' ' + sobrenome\n",
    "print(nome_completo)"
   ]
  },
  {
   "cell_type": "code",
   "execution_count": 34,
   "metadata": {},
   "outputs": [
    {
     "name": "stdout",
     "output_type": "stream",
     "text": [
      "Friedrich Nietzsche nasceu em 15 de outubro de 1844, em Röcken no Reino da Prússia.\n"
     ]
    }
   ],
   "source": [
    "dia_1 = 15\n",
    "ano_1 = 1844\n",
    "print(nome_completo + \" nasceu em \" + str(dia_1) + \" de outubro de \" + str(ano_1) +\", em Röcken no Reino da Prússia.\") "
   ]
  },
  {
   "cell_type": "code",
   "execution_count": 37,
   "metadata": {},
   "outputs": [
    {
     "name": "stdout",
     "output_type": "stream",
     "text": [
      "Friedrich Nietzsche faleceu em 25 de agosto de 1900, em Weimar, no já unificado Império Alemão.\n"
     ]
    }
   ],
   "source": [
    "dia_2 = 25\n",
    "ano_2 = 1900\n",
    "print('%s faleceu em %d de agosto de %d, em Weimar, no já unificado Império Alemão.' % (nome_completo, dia_2, ano_2))"
   ]
  },
  {
   "cell_type": "markdown",
   "metadata": {},
   "source": [
    "### Métodos com strings"
   ]
  },
  {
   "cell_type": "code",
   "execution_count": 1,
   "metadata": {},
   "outputs": [],
   "source": [
    "string = 'Oi, eu sou o Goku'"
   ]
  },
  {
   "cell_type": "code",
   "execution_count": 4,
   "metadata": {},
   "outputs": [
    {
     "name": "stdout",
     "output_type": "stream",
     "text": [
      "oi, eu sou o goku\n",
      "OI, EU SOU O GOKU\n"
     ]
    }
   ],
   "source": [
    "print(string.lower()) # lowercase\n",
    "print(string.upper()) # uppercase"
   ]
  },
  {
   "cell_type": "code",
   "execution_count": 5,
   "metadata": {},
   "outputs": [
    {
     "name": "stdout",
     "output_type": "stream",
     "text": [
      "['Oi,', 'eu', 'sou', 'o', 'Goku']\n"
     ]
    }
   ],
   "source": [
    "print(string.split()) # dividir, se nenhum parâmetro for passado, a função entende o espaço como padrão"
   ]
  },
  {
   "cell_type": "code",
   "execution_count": 7,
   "metadata": {},
   "outputs": [
    {
     "name": "stdout",
     "output_type": "stream",
     "text": [
      "['Oi, eu sou o Goku ', 'DragonBall, ', 'sayajin, ', 'adoroLutar, ', 'maisForteDoMundo']\n"
     ]
    }
   ],
   "source": [
    "tweet = 'Oi, eu sou o Goku #DragonBall, #sayajin, #adoroLutar, #maisForteDoMundo'\n",
    "print(tweet.split('#'))"
   ]
  },
  {
   "cell_type": "code",
   "execution_count": 8,
   "metadata": {},
   "outputs": [
    {
     "data": {
      "text/plain": [
       "'DragonBall, '"
      ]
     },
     "execution_count": 8,
     "metadata": {},
     "output_type": "execute_result"
    }
   ],
   "source": [
    "# retorna o segundo valor (índice 1) recortado\n",
    "tweet.split('#')[1]"
   ]
  },
  {
   "cell_type": "markdown",
   "metadata": {},
   "source": [
    "### Imagem"
   ]
  },
  {
   "cell_type": "code",
   "execution_count": 44,
   "metadata": {},
   "outputs": [
    {
     "data": {
      "text/html": [
       "<img src=\"assets/goku.jpg\"/>"
      ],
      "text/plain": [
       "<IPython.core.display.Image object>"
      ]
     },
     "execution_count": 44,
     "metadata": {},
     "output_type": "execute_result"
    }
   ],
   "source": [
    "from IPython.display import Image\n",
    "from IPython.core.display import HTML\n",
    "Image(url=\"assets/goku.jpg\")"
   ]
  }
 ],
 "metadata": {
  "celltoolbar": "Raw Cell Format",
  "kernelspec": {
   "display_name": "Python 3",
   "language": "python",
   "name": "python3"
  },
  "language_info": {
   "codemirror_mode": {
    "name": "ipython",
    "version": 3
   },
   "file_extension": ".py",
   "mimetype": "text/x-python",
   "name": "python",
   "nbconvert_exporter": "python",
   "pygments_lexer": "ipython3",
   "version": "3.6.3"
  }
 },
 "nbformat": 4,
 "nbformat_minor": 2
}
