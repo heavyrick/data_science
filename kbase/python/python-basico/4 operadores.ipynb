{
 "cells": [
  {
   "cell_type": "markdown",
   "metadata": {},
   "source": [
    "Os operadores são utilizados para efetuar operações (não me diga kkk)"
   ]
  },
  {
   "cell_type": "markdown",
   "metadata": {},
   "source": [
    "## Operadores matemáticos"
   ]
  },
  {
   "cell_type": "markdown",
   "metadata": {},
   "source": [
    "**Obs:** estes operadores foram mencionados no notebook `1 basico`"
   ]
  },
  {
   "cell_type": "code",
   "execution_count": 5,
   "metadata": {},
   "outputs": [
    {
     "name": "stdout",
     "output_type": "stream",
     "text": [
      "30\n",
      "-10\n",
      "200\n",
      "2.0\n",
      "2\n",
      "0\n",
      "1024\n"
     ]
    }
   ],
   "source": [
    "v1 = 10\n",
    "v2 = 20\n",
    "print(v1 + v2) # soma\n",
    "print(v1 - v2) # subtração\n",
    "print(v1 * v2) # multiplicação\n",
    "print(v2 / v1) # divisão\n",
    "print(v2 // v1) # divisão inteira\n",
    "print(v2 % v1) # resto da divisão\n",
    "print(2 ** v1) # potência"
   ]
  },
  {
   "cell_type": "code",
   "execution_count": 12,
   "metadata": {},
   "outputs": [
    {
     "name": "stdout",
     "output_type": "stream",
     "text": [
      "1024\n"
     ]
    }
   ],
   "source": [
    "base = 2\n",
    "exp = 10\n",
    "resultado = base ** exp\n",
    "print(resultado)"
   ]
  },
  {
   "cell_type": "markdown",
   "metadata": {},
   "source": [
    "## Operadores de comparação"
   ]
  },
  {
   "cell_type": "markdown",
   "metadata": {},
   "source": [
    "* `==` igual\n",
    "* `!=` diferente\n",
    "* `>` maior que\n",
    "* `<` menor que\n",
    "* `>=` maior ou igual\n",
    "* `<=` menor ou igual"
   ]
  },
  {
   "cell_type": "code",
   "execution_count": 40,
   "metadata": {},
   "outputs": [
    {
     "name": "stdout",
     "output_type": "stream",
     "text": [
      "False\n",
      "True\n",
      "False\n",
      "False\n"
     ]
    }
   ],
   "source": [
    "n1 = 10\n",
    "n2 = 20\n",
    "print(n1 > n2) # 10 é maior que 20? F\n",
    "print(n1 < n2) # 10 é menor que 20? T\n",
    "print(n1 == n2) # 10 é igual a 20? F\n",
    "print(n1 >= n2) # 10 é maior ou igual a 20? F"
   ]
  },
  {
   "cell_type": "code",
   "execution_count": 9,
   "metadata": {},
   "outputs": [
    {
     "name": "stdout",
     "output_type": "stream",
     "text": [
      "True\n",
      "False\n"
     ]
    }
   ],
   "source": [
    "a1 = 10\n",
    "a2 = 10\n",
    "print(a1 == a2) # 10 é igual a 10? T\n",
    "print(a1 != a2) # 10 é diferente de 10 ? F"
   ]
  },
  {
   "cell_type": "code",
   "execution_count": 11,
   "metadata": {},
   "outputs": [
    {
     "name": "stdout",
     "output_type": "stream",
     "text": [
      "False\n"
     ]
    }
   ],
   "source": [
    "media_aluno = 6.5\n",
    "media_aprovado = 7\n",
    "resultado = media_aluno >= media_aprovado # resultado recebe: a média do aluno é maior que a nota de aprovação?\n",
    "print(resultado) # F"
   ]
  },
  {
   "cell_type": "markdown",
   "metadata": {},
   "source": [
    "## Operadores lógicos\n",
    "* `not` -> não (negação)\n",
    "* `and` - > e (conjunção)\n",
    "* `or` -> ou (disjunção)"
   ]
  },
  {
   "cell_type": "code",
   "execution_count": 39,
   "metadata": {},
   "outputs": [
    {
     "name": "stdout",
     "output_type": "stream",
     "text": [
      "False\n"
     ]
    }
   ],
   "source": [
    "aprovado = True # aprovado recebe True\n",
    "nao_aprovado = not aprovado # nao_aprovado recebe a negação de aprovado, logo, de True, passa a ser False\n",
    "print(nao_aprovado)"
   ]
  },
  {
   "cell_type": "markdown",
   "metadata": {},
   "source": [
    "### operador `and` (conjunção)\n",
    "Para que uma operação seja True, todas as conjunções precisam ser True"
   ]
  },
  {
   "cell_type": "code",
   "execution_count": 37,
   "metadata": {},
   "outputs": [
    {
     "name": "stdout",
     "output_type": "stream",
     "text": [
      "True\n",
      "False\n",
      "False\n",
      "False\n"
     ]
    }
   ],
   "source": [
    "print(True and True)\n",
    "print(False and False)\n",
    "print(False and True)\n",
    "print(True and False)"
   ]
  },
  {
   "cell_type": "markdown",
   "metadata": {},
   "source": [
    "### operador `or` (disjunção)\n",
    "Para que uma operação seja True, pelo menos um dos valores da disjunção precisa ser True"
   ]
  },
  {
   "cell_type": "code",
   "execution_count": 38,
   "metadata": {},
   "outputs": [
    {
     "name": "stdout",
     "output_type": "stream",
     "text": [
      "True\n",
      "False\n",
      "True\n",
      "True\n"
     ]
    }
   ],
   "source": [
    "print(True or True)\n",
    "print(False or False)\n",
    "print(False or True)\n",
    "print(True or False)"
   ]
  },
  {
   "cell_type": "code",
   "execution_count": 36,
   "metadata": {},
   "outputs": [
    {
     "name": "stdout",
     "output_type": "stream",
     "text": [
      "Salário menor que 5000\n"
     ]
    }
   ],
   "source": [
    "salario = 4000\n",
    "\n",
    "if salario > 5000: # Se condição verdadeira\n",
    "    print('Salário maior que 5000')\n",
    "elif salario == 5000: # Se condição acima for falsa, e esta verdadeira\n",
    "    print('Salário igual a 5000')\n",
    "else: # se todas as condições acima forem falsas\n",
    "    print('Salário menor que 5000')"
   ]
  }
 ],
 "metadata": {
  "kernelspec": {
   "display_name": "Python 3",
   "language": "python",
   "name": "python3"
  },
  "language_info": {
   "codemirror_mode": {
    "name": "ipython",
    "version": 3
   },
   "file_extension": ".py",
   "mimetype": "text/x-python",
   "name": "python",
   "nbconvert_exporter": "python",
   "pygments_lexer": "ipython3",
   "version": "3.6.4"
  }
 },
 "nbformat": 4,
 "nbformat_minor": 2
}
