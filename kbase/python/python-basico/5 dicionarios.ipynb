{
 "cells": [
  {
   "cell_type": "markdown",
   "metadata": {},
   "source": [
    "## Dicionários\n",
    "Os dicionários (`dictionary`) são coleções desordenadas de itens. Eles não possuem índice, mas possuem um value pair (é um nome que identifica o valor).\n",
    "\n",
    "Para criar um dictionary, basta colocar itens dentro das chaves `{}` separados por vírgulas.\n",
    "\n",
    "Para saber mais:\n",
    "* [Python - dictionary](https://www.programiz.com/python-programming/dictionary)\n",
    "* [Tutorials point](https://www.tutorialspoint.com/python/python_dictionary.htm)\n"
   ]
  },
  {
   "cell_type": "code",
   "execution_count": 5,
   "metadata": {},
   "outputs": [
    {
     "name": "stdout",
     "output_type": "stream",
     "text": [
      "{}\n",
      "{1: 'apple', 2: 'ball'}\n",
      "{'name': 'John', 1: [2, 4, 3]}\n",
      "{1: 'apple', 2: 'ball'}\n",
      "{1: 'apple', 2: 'ball'}\n"
     ]
    }
   ],
   "source": [
    "# dicionario vazio\n",
    "my_dict = {}\n",
    "print(my_dict)\n",
    "\n",
    "# dicionario com chaves inteiras\n",
    "my_dict = {1: 'apple', 2: 'ball'}\n",
    "print(my_dict)\n",
    "\n",
    "# dictionary com chaves mistas\n",
    "my_dict = {'name': 'John', 1: [2, 4, 3]}\n",
    "print(my_dict)\n",
    "\n",
    "# usando a função dict()\n",
    "my_dict = dict({1:'apple', 2:'ball'})\n",
    "print(my_dict)\n",
    "\n",
    "# criando a partir de um array\n",
    "my_dict = dict([(1,'apple'), (2,'ball')])\n",
    "print(my_dict)"
   ]
  },
  {
   "cell_type": "markdown",
   "metadata": {},
   "source": [
    "## Operações com os dictionaries"
   ]
  },
  {
   "cell_type": "code",
   "execution_count": 16,
   "metadata": {},
   "outputs": [
    {
     "name": "stdout",
     "output_type": "stream",
     "text": [
      "{'marcos': 28, 'maria': 20, 'pedro': 18, 'adriana': 22}\n"
     ]
    }
   ],
   "source": [
    "alunos = {'marcos':28, 'maria':20, 'pedro':18, 'adriana': 22}\n",
    "print(alunos)"
   ]
  },
  {
   "cell_type": "markdown",
   "metadata": {},
   "source": [
    "Para acessar valores, basta colocar o valor da chave. Se colocar um nome inválido, vai aparecer um erro."
   ]
  },
  {
   "cell_type": "code",
   "execution_count": 20,
   "metadata": {},
   "outputs": [
    {
     "name": "stdout",
     "output_type": "stream",
     "text": [
      "20\n"
     ]
    }
   ],
   "source": [
    "print(alunos['maria'])\n",
    "# print(alunos['mario'])\n",
    "# print(alunos[0]) - isso também vai dar erro, pq dictionaries não trabalham com índices"
   ]
  },
  {
   "cell_type": "code",
   "execution_count": 23,
   "metadata": {},
   "outputs": [
    {
     "name": "stdout",
     "output_type": "stream",
     "text": [
      "dict_items([('marcos', 28), ('maria', 20), ('pedro', 18), ('adriana', 22), ('luisa', 31)])\n",
      "dict_keys(['marcos', 'maria', 'pedro', 'adriana', 'luisa'])\n",
      "dict_values([28, 20, 18, 22, 31])\n"
     ]
    }
   ],
   "source": [
    "print(alunos.items()) # itens do dictionary\n",
    "print(alunos.keys()) # chaves do dictionary\n",
    "print(alunos.values()) # valores do dictionary"
   ]
  },
  {
   "cell_type": "code",
   "execution_count": 21,
   "metadata": {},
   "outputs": [
    {
     "name": "stdout",
     "output_type": "stream",
     "text": [
      "28 20 18 22 31 "
     ]
    }
   ],
   "source": [
    "# Imprimir todos os valores\n",
    "for i in alunos:\n",
    "    print(alunos[i], end=' ')"
   ]
  },
  {
   "cell_type": "code",
   "execution_count": 25,
   "metadata": {},
   "outputs": [
    {
     "name": "stdout",
     "output_type": "stream",
     "text": [
      "marcos maria pedro adriana luisa "
     ]
    }
   ],
   "source": [
    "# Imprimir todas as chaves\n",
    "for v in alunos.keys():\n",
    "    print(v, end=' ')"
   ]
  },
  {
   "cell_type": "markdown",
   "metadata": {},
   "source": [
    "Verificar se um item existe no dictionary:"
   ]
  },
  {
   "cell_type": "code",
   "execution_count": 37,
   "metadata": {},
   "outputs": [
    {
     "name": "stdout",
     "output_type": "stream",
     "text": [
      "Existe no dictionary\n",
      "Não existe no dictionary\n"
     ]
    }
   ],
   "source": [
    "if 'maria' in alunos: # in\n",
    "    print('Existe no dictionary')\n",
    "    \n",
    "if 'python' not in alunos: # not in\n",
    "    print('Não existe no dictionary')"
   ]
  },
  {
   "cell_type": "markdown",
   "metadata": {},
   "source": [
    "### Adicionar elementos:"
   ]
  },
  {
   "cell_type": "code",
   "execution_count": 18,
   "metadata": {},
   "outputs": [
    {
     "name": "stdout",
     "output_type": "stream",
     "text": [
      "{'marcos': 28, 'maria': 20, 'pedro': 18, 'adriana': 22, 'luisa': 31}\n"
     ]
    }
   ],
   "source": [
    "alunos['luisa'] = 31\n",
    "print(alunos)"
   ]
  },
  {
   "cell_type": "markdown",
   "metadata": {},
   "source": [
    "### Excluir elementos:"
   ]
  },
  {
   "cell_type": "code",
   "execution_count": 41,
   "metadata": {},
   "outputs": [
    {
     "name": "stdout",
     "output_type": "stream",
     "text": [
      "{1: 1, 2: 4, 3: 9, 4: 16, 5: 25, 6: 36, 7: 49, 8: 64, 9: 81, 10: 100}\n"
     ]
    }
   ],
   "source": [
    "quadrados = {1:1, 2:4, 3:9, 4:16, 5:25, 6:36, 7:49}\n",
    "quadrados[8] = 64\n",
    "quadrados[9] = 81\n",
    "quadrados[10] = 100\n",
    "print(quadrados)"
   ]
  },
  {
   "cell_type": "code",
   "execution_count": 47,
   "metadata": {},
   "outputs": [
    {
     "data": {
      "text/plain": [
       "4"
      ]
     },
     "execution_count": 47,
     "metadata": {},
     "output_type": "execute_result"
    }
   ],
   "source": [
    "quadrados.pop(2) # se executar este comando de novo, vai dar erro pq o valor não existe"
   ]
  },
  {
   "cell_type": "code",
   "execution_count": 51,
   "metadata": {},
   "outputs": [],
   "source": [
    "if(1 in quadrados): # Aqui fazemos uma verificação se o item existe antes de sua exclusão\n",
    "    quadrados.pop(1)"
   ]
  },
  {
   "cell_type": "code",
   "execution_count": 52,
   "metadata": {},
   "outputs": [
    {
     "name": "stdout",
     "output_type": "stream",
     "text": [
      "9\n"
     ]
    }
   ],
   "source": [
    "if(3 in quadrados):\n",
    "    x = quadrados.pop(3)\n",
    "    print(x)"
   ]
  },
  {
   "cell_type": "code",
   "execution_count": 53,
   "metadata": {},
   "outputs": [
    {
     "name": "stdout",
     "output_type": "stream",
     "text": [
      "{4: 16, 5: 25, 6: 36, 7: 49, 8: 64, 9: 81, 10: 100}\n"
     ]
    }
   ],
   "source": [
    "print(quadrados)"
   ]
  },
  {
   "cell_type": "code",
   "execution_count": 55,
   "metadata": {},
   "outputs": [
    {
     "name": "stdout",
     "output_type": "stream",
     "text": [
      "(9, 81)\n",
      "{4: 16, 5: 25, 6: 36, 7: 49, 8: 64}\n"
     ]
    }
   ],
   "source": [
    "# exclui um item arbitrário\n",
    "print(quadrados.popitem())\n",
    "print(quadrados)"
   ]
  },
  {
   "cell_type": "code",
   "execution_count": 56,
   "metadata": {},
   "outputs": [
    {
     "name": "stdout",
     "output_type": "stream",
     "text": [
      "{4: 16, 5: 25, 6: 36, 7: 49, 8: 64}\n"
     ]
    }
   ],
   "source": [
    "print(quadrados)"
   ]
  },
  {
   "cell_type": "code",
   "execution_count": 57,
   "metadata": {},
   "outputs": [],
   "source": [
    "# exclui um item específico\n",
    "del quadrados[6]"
   ]
  },
  {
   "cell_type": "code",
   "execution_count": 58,
   "metadata": {},
   "outputs": [
    {
     "name": "stdout",
     "output_type": "stream",
     "text": [
      "{4: 16, 5: 25, 7: 49, 8: 64}\n"
     ]
    }
   ],
   "source": [
    "print(quadrados)"
   ]
  },
  {
   "cell_type": "code",
   "execution_count": 59,
   "metadata": {},
   "outputs": [],
   "source": [
    "# Limpar o dictionary\n",
    "quadrados.clear()"
   ]
  },
  {
   "cell_type": "code",
   "execution_count": 60,
   "metadata": {},
   "outputs": [
    {
     "name": "stdout",
     "output_type": "stream",
     "text": [
      "{}\n"
     ]
    }
   ],
   "source": [
    "print(quadrados)"
   ]
  },
  {
   "cell_type": "code",
   "execution_count": 61,
   "metadata": {},
   "outputs": [],
   "source": [
    "# excui o dictionary\n",
    "del quadrados"
   ]
  },
  {
   "cell_type": "code",
   "execution_count": 62,
   "metadata": {},
   "outputs": [
    {
     "ename": "NameError",
     "evalue": "name 'quadrados' is not defined",
     "output_type": "error",
     "traceback": [
      "\u001b[1;31m---------------------------------------------------------------------------\u001b[0m",
      "\u001b[1;31mNameError\u001b[0m                                 Traceback (most recent call last)",
      "\u001b[1;32m<ipython-input-62-2050d9b95691>\u001b[0m in \u001b[0;36m<module>\u001b[1;34m()\u001b[0m\n\u001b[1;32m----> 1\u001b[1;33m \u001b[0mprint\u001b[0m\u001b[1;33m(\u001b[0m\u001b[0mquadrados\u001b[0m\u001b[1;33m)\u001b[0m\u001b[1;33m\u001b[0m\u001b[0m\n\u001b[0m",
      "\u001b[1;31mNameError\u001b[0m: name 'quadrados' is not defined"
     ]
    }
   ],
   "source": [
    "print(quadrados) # vai dar erro, pois foi excluído"
   ]
  }
 ],
 "metadata": {
  "kernelspec": {
   "display_name": "Python 3",
   "language": "python",
   "name": "python3"
  },
  "language_info": {
   "codemirror_mode": {
    "name": "ipython",
    "version": 3
   },
   "file_extension": ".py",
   "mimetype": "text/x-python",
   "name": "python",
   "nbconvert_exporter": "python",
   "pygments_lexer": "ipython3",
   "version": "3.6.4"
  }
 },
 "nbformat": 4,
 "nbformat_minor": 2
}
