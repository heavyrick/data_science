{
 "cells": [
  {
   "cell_type": "markdown",
   "metadata": {},
   "source": [
    "## Funções"
   ]
  },
  {
   "cell_type": "code",
   "execution_count": 1,
   "metadata": {},
   "outputs": [
    {
     "name": "stdout",
     "output_type": "stream",
     "text": [
      "3\n",
      "8\n"
     ]
    }
   ],
   "source": [
    "def somar(n1, n2):\n",
    "    return n1 + n2\n",
    "\n",
    "print(somar(1, 2))\n",
    "print(somar(3, 5))"
   ]
  },
  {
   "cell_type": "code",
   "execution_count": 2,
   "metadata": {},
   "outputs": [
    {
     "name": "stdout",
     "output_type": "stream",
     "text": [
      "eu sou uma funcao\n",
      "aprendendo python\n"
     ]
    }
   ],
   "source": [
    "def imprimir():\n",
    "    print('eu sou uma funcao')\n",
    "    print('aprendendo python')\n",
    "    \n",
    "imprimir()"
   ]
  },
  {
   "cell_type": "code",
   "execution_count": 3,
   "metadata": {},
   "outputs": [
    {
     "name": "stdout",
     "output_type": "stream",
     "text": [
      "True\n",
      "False\n"
     ]
    }
   ],
   "source": [
    "def eh_par(x):\n",
    "    return x % 2 == 0\n",
    "\n",
    "print(eh_par(10))\n",
    "print(eh_par(11))"
   ]
  },
  {
   "cell_type": "code",
   "execution_count": 4,
   "metadata": {},
   "outputs": [
    {
     "name": "stdout",
     "output_type": "stream",
     "text": [
      "15\n",
      "3\n"
     ]
    }
   ],
   "source": [
    "def foo(*args):\n",
    "    return sum(*args)\n",
    "\n",
    "print(foo([1,2,3,4,5]))\n",
    "print(foo([1,2]))"
   ]
  },
  {
   "cell_type": "code",
   "execution_count": 5,
   "metadata": {},
   "outputs": [
    {
     "name": "stdout",
     "output_type": "stream",
     "text": [
      "120\n"
     ]
    }
   ],
   "source": [
    "# fatorial -> 5! = 5 * 4 * 3 * 2 * 1 = 120\n",
    "\n",
    "def fat(n):\n",
    "    if n == 0 or n == 1:\n",
    "        return 1\n",
    "    return n * fat(n - 1)\n",
    "\n",
    "print(fat(5))"
   ]
  },
  {
   "cell_type": "code",
   "execution_count": 10,
   "metadata": {},
   "outputs": [
    {
     "name": "stdout",
     "output_type": "stream",
     "text": [
      "desconhecido\n"
     ]
    }
   ],
   "source": [
    "# colocar valor padrão\n",
    "def imprimir_nome(nome='desconhecido'):\n",
    "    \"Descrição da função\"\n",
    "    print(nome)\n",
    "    \n",
    "imprimir_nome()"
   ]
  },
  {
   "cell_type": "code",
   "execution_count": 11,
   "metadata": {},
   "outputs": [
    {
     "name": "stdout",
     "output_type": "stream",
     "text": [
      "Help on function imprimir_nome in module __main__:\n",
      "\n",
      "imprimir_nome(nome='desconhecido')\n",
      "    Descrição da função\n",
      "\n"
     ]
    }
   ],
   "source": [
    "help(imprimir_nome)"
   ]
  },
  {
   "cell_type": "markdown",
   "metadata": {},
   "source": [
    "### Funções lambda\n",
    "\n",
    "Lambda é uma função definida sem nome. \n",
    "\n",
    "`lambda arguments: expression`\n",
    "\n",
    "Funções lambda pode ter vários argumentos mas apenas uma expressão. Esta expressão é avaliada e retornada.\n",
    "[Mais](https://www.programiz.com/python-programming/anonymous-function)"
   ]
  },
  {
   "cell_type": "code",
   "execution_count": 13,
   "metadata": {},
   "outputs": [
    {
     "name": "stdout",
     "output_type": "stream",
     "text": [
      "8\n",
      "20\n"
     ]
    }
   ],
   "source": [
    "# x é o valor de entrada, e multiplicado por 2\n",
    "a = lambda x: x*2\n",
    "print(a(4))\n",
    "print(a(10))"
   ]
  },
  {
   "cell_type": "markdown",
   "metadata": {},
   "source": [
    "### map()\n",
    "`Map` aplica uma função para todos os itens de entrada.\n",
    "\n",
    "No exemplo abaixo, temos:\n",
    "* criamos a lista `items` e a lista vazia `squared`, que receberá os valores;\n",
    "* laço `for` passa item por item, multiplicando o valor de entrada por `2`;\n",
    "* valor é adicionado `append` em `squared`."
   ]
  },
  {
   "cell_type": "code",
   "execution_count": 2,
   "metadata": {},
   "outputs": [
    {
     "name": "stdout",
     "output_type": "stream",
     "text": [
      "[1, 4, 9, 16, 25]\n"
     ]
    }
   ],
   "source": [
    "items = [1, 2, 3, 4, 5]\n",
    "squared = []\n",
    "for i in items:\n",
    "    squared.append(i**2)\n",
    "print(squared)    "
   ]
  },
  {
   "cell_type": "markdown",
   "metadata": {},
   "source": [
    "* criamos a lista `items`\n",
    "* a função `list()` criará uma lista dos valores gerados;\n",
    "* a função `map()` recebe dois parâmetros: uma função (nesse caso a função `lambda`), e os valores de entrada (nesse caso `items`);\n",
    "* a função lambda recebe valor de entrada `x`, que é multiplicado por `2`;\n",
    "* os valores de `items` serão processados pela função `lambda`, se tornarão uma lista e serão adicionados em `squared`."
   ]
  },
  {
   "cell_type": "code",
   "execution_count": 3,
   "metadata": {},
   "outputs": [
    {
     "name": "stdout",
     "output_type": "stream",
     "text": [
      "[1, 4, 9, 16, 25]\n"
     ]
    }
   ],
   "source": [
    "items = [1, 2, 3, 4, 5]\n",
    "squared = list(map(lambda x: x**2, items))\n",
    "print(squared)    "
   ]
  },
  {
   "cell_type": "code",
   "execution_count": 4,
   "metadata": {},
   "outputs": [],
   "source": [
    "def potencia(a):\n",
    "    \"\"\"\n",
    "    Recebe a e retorna a potência ao quadrado\n",
    "    \"\"\"\n",
    "    return a ** 2    "
   ]
  },
  {
   "cell_type": "code",
   "execution_count": 6,
   "metadata": {},
   "outputs": [
    {
     "name": "stdout",
     "output_type": "stream",
     "text": [
      "[1, 4, 9, 16, 25]\n"
     ]
    }
   ],
   "source": [
    "items = [1, 2, 3, 4, 5]\n",
    "# eleva ao quadrado todos os valores de items\n",
    "ao_quadrado = list(map(potencia, items))\n",
    "print(ao_quadrado)"
   ]
  },
  {
   "cell_type": "markdown",
   "metadata": {},
   "source": [
    "O exemplo abaixo é mais complicado. A função `lambda` recebe o valor"
   ]
  },
  {
   "cell_type": "code",
   "execution_count": 22,
   "metadata": {},
   "outputs": [
    {
     "name": "stdout",
     "output_type": "stream",
     "text": [
      "Lista 1 => [[0, 0], [2, 1], [4, 4], [6, 9], [8, 16]]\n",
      "Lista 2 =>[[10, 10], [12, 11], [14, 14], [16, 19], [18, 26]]\n"
     ]
    }
   ],
   "source": [
    "def multiplicar(x):\n",
    "    return (x*x)\n",
    "def somar(x):\n",
    "    return (x+x)\n",
    "\n",
    "t1 = []\n",
    "t2 = []\n",
    "funcs = [somar, multiplicar]\n",
    "for i in range(5):\n",
    "    value = list(map(lambda x: x(i), funcs))\n",
    "    t1.append(value)\n",
    "    value2 = list(map(lambda x: x(i)+10, funcs))\n",
    "    t2.append(value2)\n",
    "\n",
    "print('Lista 1 => ' + str(t1))\n",
    "print('Lista 2 =>' + str(t2))"
   ]
  },
  {
   "cell_type": "markdown",
   "metadata": {},
   "source": [
    "### filter()"
   ]
  },
  {
   "cell_type": "markdown",
   "metadata": {},
   "source": [
    "### reduce()"
   ]
  },
  {
   "cell_type": "markdown",
   "metadata": {},
   "source": [
    "[Mais](http://book.pythontips.com/en/latest/map_filter.html)"
   ]
  }
 ],
 "metadata": {
  "kernelspec": {
   "display_name": "Python 3",
   "language": "python",
   "name": "python3"
  },
  "language_info": {
   "codemirror_mode": {
    "name": "ipython",
    "version": 3
   },
   "file_extension": ".py",
   "mimetype": "text/x-python",
   "name": "python",
   "nbconvert_exporter": "python",
   "pygments_lexer": "ipython3",
   "version": "3.6.4"
  }
 },
 "nbformat": 4,
 "nbformat_minor": 2
}
